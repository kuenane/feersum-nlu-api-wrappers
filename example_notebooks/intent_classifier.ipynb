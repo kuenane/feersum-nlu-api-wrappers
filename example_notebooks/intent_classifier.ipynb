{
 "cells": [
  {
   "cell_type": "code",
   "execution_count": 24,
   "metadata": {},
   "outputs": [],
   "source": [
    "import os\n",
    "import sys\n",
    "module_path = os.path.abspath(os.path.join('..'))\n",
    "if module_path not in sys.path:\n",
    "    sys.path.append(module_path)\n",
    "\n",
    "import urllib3\n",
    "\n",
    "import feersum_nlu\n",
    "from feersum_nlu.rest import ApiException"
   ]
  },
  {
   "cell_type": "code",
   "execution_count": null,
   "metadata": {},
   "outputs": [],
   "source": []
  },
  {
   "cell_type": "markdown",
   "metadata": {},
   "source": [
    "## Setup the API key and service endpoint"
   ]
  },
  {
   "cell_type": "code",
   "execution_count": 25,
   "metadata": {},
   "outputs": [],
   "source": [
    "# Try to get the API key from your OS environment, else use 'YOUR_API_KEY' as the default value in the code below.\n",
    "# You may use any environment variable you want, it doesn't have to be 'FEERSUM_NLU_AUTH_TOKEN'.\n",
    "feersum_nlu_auth_token = os.environ.get('FEERSUM_NLU_AUTH_TOKEN', 'YOUR_API_KEY')\n",
    "# print('feersum_nlu_auth_token = ', feersum_nlu_auth_token)\n",
    "\n",
    "# Configure API key authorization: APIKeyHeader\n",
    "configuration = feersum_nlu.Configuration()\n",
    "configuration.api_key['AUTH_TOKEN'] = feersum_nlu_auth_token\n",
    "\n",
    "# configuration.host = \"http://127.0.0.1:8100/nlu/v2\"\n",
    "configuration.host = \"https://nlu.dev.feersum.io:443/nlu/v2\""
   ]
  },
  {
   "cell_type": "code",
   "execution_count": null,
   "metadata": {},
   "outputs": [],
   "source": []
  },
  {
   "cell_type": "markdown",
   "metadata": {},
   "source": [
    "## Build a classifier of text utterances into intent/action labels. \n",
    "Create an intent classifier, train it up and make a prediction."
   ]
  },
  {
   "cell_type": "code",
   "execution_count": 46,
   "metadata": {},
   "outputs": [
    {
     "name": "stdout",
     "output_type": "stream",
     "text": [
      "\n",
      "Create the intent classifier:\n",
      " type(api_response) <class 'feersum_nlu.models.intent_classifier_instance_detail.IntentClassifierInstanceDetail'>\n",
      " api_response {'cm_labels': {},\n",
      " 'desc': 'Test intent classifier.',\n",
      " 'id': '5e0fa2a0-816d-4d7b-8b65-4e41ecb5a274',\n",
      " 'long_name': None,\n",
      " 'name': 'test_intent_clsfr',\n",
      " 'num_testing_samples': 0,\n",
      " 'num_training_samples': 0,\n",
      " 'testing_accuracy': -1.0,\n",
      " 'testing_cm': {},\n",
      " 'testing_f1': 0.0,\n",
      " 'threshold': 1.0,\n",
      " 'training_accuracy': -1.0,\n",
      " 'training_cm': {},\n",
      " 'training_f1': 0.0,\n",
      " 'training_stamp': '',\n",
      " 'validation_accuracy': -1.0,\n",
      " 'validation_cm': {},\n",
      " 'validation_f1': 0.0,\n",
      " 'word_manifold_list': []}\n",
      "\n",
      "Get the training samples of the intent classifier:\n",
      " type(api_response) <class 'list'>\n",
      " api_response []\n",
      "\n",
      "Del the training samples of the intent classifier:\n",
      " type(api_response) <class 'list'>\n",
      " api_response []\n",
      "\n",
      "Add training samples to the intent classifier:\n",
      " type(api_response) <class 'feersum_nlu.models.total_samples.TotalSamples'>\n",
      " api_response {'total_samples': 6}\n",
      "\n",
      "Train the intent classifier:\n",
      " type(api_response) <class 'feersum_nlu.models.intent_classifier_instance_detail.IntentClassifierInstanceDetail'>\n",
      " api_response {'cm_labels': {'0': 'quote', '1': 'claim', '_nc': '_nc'},\n",
      " 'desc': 'Test intent classifier.',\n",
      " 'id': '57677c30-76e6-4939-8347-1ae22f4fbe57',\n",
      " 'long_name': None,\n",
      " 'name': 'test_intent_clsfr',\n",
      " 'num_testing_samples': 0,\n",
      " 'num_training_samples': 6,\n",
      " 'testing_accuracy': 0.0,\n",
      " 'testing_cm': {},\n",
      " 'testing_f1': 0.0,\n",
      " 'threshold': 0.85,\n",
      " 'training_accuracy': 1.0,\n",
      " 'training_cm': {'0': {'0': 3}, '1': {'1': 3}},\n",
      " 'training_f1': 1.0,\n",
      " 'training_stamp': '2019-01-21 17:25:47.192516+02:00',\n",
      " 'validation_accuracy': 1.0,\n",
      " 'validation_cm': {'0': {'0': 3}, '1': {'1': 3}},\n",
      " 'validation_f1': 1.0,\n",
      " 'word_manifold_list': [{'label': 'eng', 'word_manifold': 'feers_wm_eng'}]}\n",
      "\n",
      "Get the details of specific named loaded intent classifiers:\n",
      " type(api_response) <class 'feersum_nlu.models.intent_classifier_instance_detail.IntentClassifierInstanceDetail'>\n",
      " api_response {'cm_labels': {'0': 'quote', '1': 'claim', '_nc': '_nc'},\n",
      " 'desc': 'Test intent classifier.',\n",
      " 'id': '57677c30-76e6-4939-8347-1ae22f4fbe57',\n",
      " 'long_name': None,\n",
      " 'name': 'test_intent_clsfr',\n",
      " 'num_testing_samples': 0,\n",
      " 'num_training_samples': 6,\n",
      " 'testing_accuracy': 0.0,\n",
      " 'testing_cm': {},\n",
      " 'testing_f1': 0.0,\n",
      " 'threshold': 0.85,\n",
      " 'training_accuracy': 1.0,\n",
      " 'training_cm': {'0': {'0': 3}, '1': {'1': 3}},\n",
      " 'training_f1': 1.0,\n",
      " 'training_stamp': '2019-01-21 17:25:47.192516+02:00',\n",
      " 'validation_accuracy': 1.0,\n",
      " 'validation_cm': {'0': {'0': 3}, '1': {'1': 3}},\n",
      " 'validation_f1': 1.0,\n",
      " 'word_manifold_list': [{'label': 'eng', 'word_manifold': 'feers_wm_eng'}]}\n",
      "\n"
     ]
    }
   ],
   "source": [
    "api_instance = feersum_nlu.IntentClassifiersApi(feersum_nlu.ApiClient(configuration))\n",
    "\n",
    "wm_instance_name = 'feers_wm_eng'\n",
    "instance_name = 'test_intent_clsfr'\n",
    "\n",
    "create_details = feersum_nlu.IntentClassifierCreateDetails(name=instance_name, \n",
    "                                                           desc=\"Test intent classifier.\", \n",
    "                                                           load_from_store=False)\n",
    "\n",
    "# The training samples.\n",
    "labelled_text_sample_list = []\n",
    "labelled_text_sample_list.append(feersum_nlu.LabelledTextSample(text=\"I would like to fill in a claim form.\",\n",
    "                                                                label=\"claim\"))\n",
    "labelled_text_sample_list.append(feersum_nlu.LabelledTextSample(text=\"How do I fill in a claim form.\",\n",
    "                                                                label=\"claim\"))\n",
    "labelled_text_sample_list.append(feersum_nlu.LabelledTextSample(text=\"Please give me a claim form to fill in.\",\n",
    "                                                                label=\"claim\"))\n",
    "\n",
    "\n",
    "labelled_text_sample_list.append(feersum_nlu.LabelledTextSample(text=\"Can I get a quote on your website.\",\n",
    "                                                                label=\"quote\"))\n",
    "labelled_text_sample_list.append(feersum_nlu.LabelledTextSample(text=\"Can I get a quote online.\",\n",
    "                                                                label=\"quote\"))\n",
    "labelled_text_sample_list.append(feersum_nlu.LabelledTextSample(text=\"Can I get a quote from you.\",\n",
    "                                                                label=\"quote\"))\n",
    "\n",
    "\n",
    "\n",
    "# train_details = feersum_nlu.TrainDetails(immediate_mode=True)\n",
    "train_details = feersum_nlu.TrainDetails(threshold=0.85,\n",
    "                                         word_manifold=wm_instance_name,\n",
    "                                         immediate_mode=True)\n",
    "\n",
    "print()\n",
    "\n",
    "try:\n",
    "    print(\"Create the intent classifier:\")\n",
    "    api_response = api_instance.intent_classifier_create(create_details)\n",
    "    print(\" type(api_response)\", type(api_response))\n",
    "    print(\" api_response\", api_response)\n",
    "    print()\n",
    "\n",
    "    # print(\"Add training samples to the intent classifier:\")\n",
    "    # api_response = api_instance.intent_classifier_add_training_samples(instance_name, labelled_text_sample_list)\n",
    "    # print(\" type(api_response)\", type(api_response))\n",
    "    # print(\" api_response\", api_response)\n",
    "    # print()\n",
    "\n",
    "    print(\"Get the training samples of the intent classifier:\")\n",
    "    api_response = api_instance.intent_classifier_get_training_samples(instance_name)\n",
    "    print(\" type(api_response)\", type(api_response))\n",
    "    print(\" api_response\", api_response)\n",
    "    print()\n",
    "\n",
    "    print(\"Del the training samples of the intent classifier:\")\n",
    "    api_response = api_instance.intent_classifier_del_training_samples_all(instance_name)\n",
    "    print(\" type(api_response)\", type(api_response))\n",
    "    print(\" api_response\", api_response)\n",
    "    print()\n",
    "\n",
    "    print(\"Add training samples to the intent classifier:\")\n",
    "    api_response = api_instance.intent_classifier_add_training_samples(instance_name, labelled_text_sample_list)\n",
    "    print(\" type(api_response)\", type(api_response))\n",
    "    print(\" api_response\", api_response)\n",
    "    print()\n",
    "\n",
    "    print(\"Train the intent classifier:\")\n",
    "    api_response = api_instance.intent_classifier_train(instance_name, train_details)\n",
    "    print(\" type(api_response)\", type(api_response))\n",
    "    print(\" api_response\", api_response)\n",
    "    print()\n",
    "\n",
    "    # print(\"Get the details of all loaded intent classifiers:\")\n",
    "    # api_response = api_instance.intent_classifier_get_details_all()\n",
    "    # print(\" type(api_response)\", type(api_response))\n",
    "    # print(\" api_response\", api_response)\n",
    "    # print()\n",
    "\n",
    "    print(\"Get the details of specific named loaded intent classifiers:\")\n",
    "    api_response = api_instance.intent_classifier_get_details(instance_name)\n",
    "    print(\" type(api_response)\", type(api_response))\n",
    "    print(\" api_response\", api_response)\n",
    "    print()\n",
    "except ApiException as e:\n",
    "    print(\"Exception when calling an intent classifier operation: %s\\n\" % e)\n",
    "except urllib3.exceptions.MaxRetryError:\n",
    "    print(\"Connection MaxRetryError!\")"
   ]
  },
  {
   "cell_type": "code",
   "execution_count": null,
   "metadata": {},
   "outputs": [],
   "source": []
  },
  {
   "cell_type": "code",
   "execution_count": 47,
   "metadata": {},
   "outputs": [
    {
     "name": "stdout",
     "output_type": "stream",
     "text": [
      "Classify intent:\n",
      " type(api_response) <class 'list'>\n",
      " api_response [{'label': 'quote', 'probability': 0.39667112515113445}]\n",
      "\n"
     ]
    }
   ],
   "source": [
    "text_input = feersum_nlu.TextInput(\"How do I get a quote\")\n",
    "\n",
    "try:\n",
    "    print(\"Classify intent:\")\n",
    "    api_response = api_instance.intent_classifier_retrieve(instance_name, text_input)\n",
    "    print(\" type(api_response)\", type(api_response))\n",
    "    print(\" api_response\", api_response)\n",
    "    print()\n",
    "except ApiException as e:\n",
    "    print(\"Exception when calling an intent classifier operation: %s\\n\" % e)\n",
    "except urllib3.exceptions.MaxRetryError:\n",
    "    print(\"Connection MaxRetryError!\")"
   ]
  },
  {
   "cell_type": "code",
   "execution_count": 48,
   "metadata": {},
   "outputs": [
    {
     "name": "stdout",
     "output_type": "stream",
     "text": [
      "Run TSNE:\n",
      " type(api_response) <class 'list'>\n",
      " api_response [{'label': 'claim',\n",
      " 'text': 'I would like to fill in a claim form.',\n",
      " 'x': 30.437639236450195,\n",
      " 'y': -107.1258544921875,\n",
      " 'z': 0.0}, {'label': 'quote',\n",
      " 'text': 'Can I get a quote online.',\n",
      " 'x': 40.419307708740234,\n",
      " 'y': -69.06219482421875,\n",
      " 'z': 0.0}, {'label': 'quote',\n",
      " 'text': 'Can I get a quote on your website.',\n",
      " 'x': 29.24079132080078,\n",
      " 'y': -86.47350311279297,\n",
      " 'z': 0.0}, {'label': 'claim',\n",
      " 'text': 'How do I fill in a claim form.',\n",
      " 'x': 9.969528198242188,\n",
      " 'y': -93.99634552001953,\n",
      " 'z': 0.0}, {'label': 'quote',\n",
      " 'text': 'Can I get a quote from you.',\n",
      " 'x': 16.131568908691406,\n",
      " 'y': -70.46500396728516,\n",
      " 'z': 0.0}, {'label': 'claim',\n",
      " 'text': 'Please give me a claim form to fill in.',\n",
      " 'x': 49.252262115478516,\n",
      " 'y': -91.7239990234375,\n",
      " 'z': 0.0}]\n",
      "\n"
     ]
    }
   ],
   "source": [
    "tsne_settings = feersum_nlu.TsneSettings(n_components=2, perplexity=50.0, learning_rate=200)\n",
    "\n",
    "print(\"Run TSNE:\")\n",
    "api_response = api_instance.intent_classifier_tsne(instance_name, tsne_settings)\n",
    "print(\" type(api_response)\", type(api_response))\n",
    "print(\" api_response\", api_response)\n",
    "print()\n"
   ]
  },
  {
   "cell_type": "code",
   "execution_count": 49,
   "metadata": {},
   "outputs": [],
   "source": [
    "%config InlineBackend.figure_format = 'retina'\n",
    "\n",
    "import numpy as np\n",
    "import matplotlib.pyplot as plt"
   ]
  },
  {
   "cell_type": "code",
   "execution_count": 50,
   "metadata": {},
   "outputs": [
    {
     "data": {
      "image/png": "[encoded data removed]",
      "text/plain": [
       "<Figure size 432x288 with 1 Axes>"
      ]
     },
     "metadata": {
      "image/png": {
       "height": 250,
       "width": 385
      },
      "needs_background": "light"
     },
     "output_type": "display_data"
    }
   ],
   "source": [
    "label_to_colour_map = {}\n",
    "\n",
    "N = len(api_response)\n",
    "x = np.zeros(N)\n",
    "y = np.zeros(N)\n",
    "colours = np.zeros(N)\n",
    "area = np.zeros(N) + 30\n",
    "\n",
    "for idx, sample in enumerate(api_response):\n",
    "    x[idx] = sample.x\n",
    "    y[idx] = sample.y\n",
    "    label = sample.label\n",
    "    \n",
    "    c = label_to_colour_map.get(label, len(label_to_colour_map))\n",
    "    label_to_colour_map[label] = c\n",
    "    \n",
    "    colours[idx] = c;\n",
    "    \n",
    "\n",
    "plt.scatter(x, y, s=area, c=colours, alpha=0.5)\n",
    "plt.show()"
   ]
  },
  {
   "cell_type": "code",
   "execution_count": null,
   "metadata": {},
   "outputs": [],
   "source": []
  }
 ],
 "metadata": {
  "kernelspec": {
   "display_name": "Python 3",
   "language": "python",
   "name": "python3"
  },
  "language_info": {
   "codemirror_mode": {
    "name": "ipython",
    "version": 3
   },
   "file_extension": ".py",
   "mimetype": "text/x-python",
   "name": "python",
   "nbconvert_exporter": "python",
   "pygments_lexer": "ipython3",
   "version": "3.6.5"
  }
 },
 "nbformat": 4,
 "nbformat_minor": 1
}
