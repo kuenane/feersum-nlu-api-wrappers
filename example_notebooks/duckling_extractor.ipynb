{
 "cells": [
  {
   "cell_type": "code",
   "execution_count": 1,
   "metadata": {},
   "outputs": [],
   "source": [
    "import os\n",
    "import sys\n",
    "module_path = os.path.abspath(os.path.join('..'))\n",
    "if module_path not in sys.path:\n",
    "    sys.path.append(module_path)\n",
    "\n",
    "import urllib3\n",
    "\n",
    "import feersum_nlu\n",
    "from feersum_nlu.rest import ApiException"
   ]
  },
  {
   "cell_type": "code",
   "execution_count": null,
   "metadata": {},
   "outputs": [],
   "source": []
  },
  {
   "cell_type": "markdown",
   "metadata": {},
   "source": [
    "## Setup the API key and service endpoint"
   ]
  },
  {
   "cell_type": "code",
   "execution_count": 2,
   "metadata": {},
   "outputs": [],
   "source": [
    "# Try to get the API key from your OS environment, else use 'YOUR_API_KEY' as the default value in the code below.\n",
    "# You may use any environment variable you want, it doesn't have to be 'FEERSUM_NLU_AUTH_TOKEN'.\n",
    "feersum_nlu_auth_token = os.environ.get('FEERSUM_NLU_AUTH_TOKEN', 'YOUR_API_KEY')\n",
    "# print('feersum_nlu_auth_token = ', feersum_nlu_auth_token)\n",
    "\n",
    "# Configure API key authorization: APIKeyHeader\n",
    "configuration = feersum_nlu.Configuration()\n",
    "configuration.api_key['AUTH_TOKEN'] = feersum_nlu_auth_token\n",
    "\n",
    "# configuration.host = \"http://127.0.0.1:8100/nlu/v2\"\n",
    "configuration.host = \"https://nlu.dev.feersum.io:443/nlu/v2\""
   ]
  },
  {
   "cell_type": "code",
   "execution_count": null,
   "metadata": {},
   "outputs": [],
   "source": []
  },
  {
   "cell_type": "markdown",
   "metadata": {},
   "source": [
    "## Extract entities from text using the Duckling entity extractor API\n",
    "This API allows one to turn text into structured data. Date values, intervals and durations are currently exposed. "
   ]
  },
  {
   "cell_type": "code",
   "execution_count": 3,
   "metadata": {},
   "outputs": [
    {
     "name": "stdout",
     "output_type": "stream",
     "text": [
      "\n",
      "Create the entity extractor:\n",
      "Exception when calling a entity extractor operation: (502)\n",
      "Reason: Bad Gateway\n",
      "HTTP response headers: HTTPHeaderDict({'Server': 'nginx/1.10.3 (Ubuntu)', 'Date': 'Wed, 12 Dec 2018 19:14:01 GMT', 'Content-Type': 'text/html', 'Content-Length': '182', 'Connection': 'keep-alive'})\n",
      "HTTP response body: <html>\n",
      "<head><title>502 Bad Gateway</title></head>\n",
      "<body bgcolor=\"white\">\n",
      "<center><h1>502 Bad Gateway</h1></center>\n",
      "<hr><center>nginx/1.10.3 (Ubuntu)</center>\n",
      "</body>\n",
      "</html>\n",
      "\n",
      "\n",
      "\n"
     ]
    }
   ],
   "source": [
    "api_instance = feersum_nlu.DucklingEntityExtractorsApi(feersum_nlu.ApiClient(configuration))\n",
    "\n",
    "instance_name = 'test_duckling_extr'\n",
    "\n",
    "duckling_ent_create_details = \\\n",
    "    feersum_nlu.DucklingEntityExtractorCreateDetails(name=instance_name, \n",
    "                                                     desc=\"Test duckling extractor.\",\n",
    "                                                     reference_time=\"2017-12-01\",\n",
    "                                                     load_from_store=False)\n",
    "\n",
    "print()\n",
    "\n",
    "try:\n",
    "    print(\"Create the entity extractor:\")\n",
    "    api_response = api_instance.duckling_entity_extractor_create(duckling_ent_create_details)\n",
    "    print(\" type(api_response)\", type(api_response))\n",
    "    print(\" api_response\", api_response)\n",
    "    print()\n",
    "\n",
    "    # print(\"Get the details of all loaded entity extractors:\")\n",
    "    # api_response = api_instance.duckling_entity_extractor_get_details_all()\n",
    "    # print(\" type(api_response)\", type(api_response))\n",
    "    # print(\" api_response\", api_response)\n",
    "    # print()\n",
    "\n",
    "    print(\"Get the details of specific named loaded entity extractor:\")\n",
    "    api_response = api_instance.duckling_entity_extractor_get_details(instance_name)\n",
    "    print(\" type(api_response)\", type(api_response))\n",
    "    print(\" api_response\", api_response)\n",
    "    print()\n",
    "except ApiException as e:\n",
    "    print(\"Exception when calling a entity extractor operation: %s\\n\" % e)\n",
    "except urllib3.exceptions.MaxRetryError:\n",
    "    print(\"Connection MaxRetryError!\")"
   ]
  },
  {
   "cell_type": "code",
   "execution_count": null,
   "metadata": {},
   "outputs": [],
   "source": []
  },
  {
   "cell_type": "code",
   "execution_count": 4,
   "metadata": {},
   "outputs": [
    {
     "name": "stdout",
     "output_type": "stream",
     "text": [
      "Extract entities:\n",
      "Exception when calling a entity extractor operation: (502)\n",
      "Reason: Bad Gateway\n",
      "HTTP response headers: HTTPHeaderDict({'Server': 'nginx/1.10.3 (Ubuntu)', 'Date': 'Wed, 12 Dec 2018 19:14:02 GMT', 'Content-Type': 'text/html', 'Content-Length': '182', 'Connection': 'keep-alive'})\n",
      "HTTP response body: <html>\r\n",
      "<head><title>502 Bad Gateway</title></head>\r\n",
      "<body bgcolor=\"white\">\r\n",
      "<center><h1>502 Bad Gateway</h1></center>\r\n",
      "<hr><center>nginx/1.10.3 (Ubuntu)</center>\r\n",
      "</body>\r\n",
      "</html>\r\n",
      "\n",
      "\n",
      "\n"
     ]
    }
   ],
   "source": [
    "text_input = feersum_nlu.TextInput(\"The day after tomorrow at 11:00 in the evening.\")\n",
    "\n",
    "try:\n",
    "    print(\"Extract entities:\")\n",
    "    api_response = api_instance.duckling_entity_extractor_retrieve(instance_name, text_input)\n",
    "    print(\" type(api_response)\", type(api_response))\n",
    "    print(\" api_response\", api_response)\n",
    "    print()\n",
    "except ApiException as e:\n",
    "    print(\"Exception when calling a entity extractor operation: %s\\n\" % e)\n",
    "except urllib3.exceptions.MaxRetryError:\n",
    "    print(\"Connection MaxRetryError!\")"
   ]
  },
  {
   "cell_type": "code",
   "execution_count": null,
   "metadata": {},
   "outputs": [],
   "source": []
  },
  {
   "cell_type": "code",
   "execution_count": null,
   "metadata": {},
   "outputs": [],
   "source": []
  }
 ],
 "metadata": {
  "kernelspec": {
   "display_name": "Python 3",
   "language": "python",
   "name": "python3"
  },
  "language_info": {
   "codemirror_mode": {
    "name": "ipython",
    "version": 3
   },
   "file_extension": ".py",
   "mimetype": "text/x-python",
   "name": "python",
   "nbconvert_exporter": "python",
   "pygments_lexer": "ipython3",
   "version": "3.6.5"
  }
 },
 "nbformat": 4,
 "nbformat_minor": 1
}
