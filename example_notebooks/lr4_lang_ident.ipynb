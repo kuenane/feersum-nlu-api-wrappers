{
 "cells": [
  {
   "cell_type": "code",
   "execution_count": 1,
   "metadata": {},
   "outputs": [],
   "source": [
    "import os\n",
    "import sys\n",
    "module_path = os.path.abspath(os.path.join('..'))\n",
    "if module_path not in sys.path:\n",
    "    sys.path.append(module_path)\n",
    "\n",
    "import urllib3\n",
    "\n",
    "import feersum_nlu\n",
    "from feersum_nlu.rest import ApiException"
   ]
  },
  {
   "cell_type": "code",
   "execution_count": null,
   "metadata": {},
   "outputs": [],
   "source": []
  },
  {
   "cell_type": "markdown",
   "metadata": {},
   "source": [
    "## Setup the API key and service endpoint"
   ]
  },
  {
   "cell_type": "code",
   "execution_count": 2,
   "metadata": {},
   "outputs": [],
   "source": [
    "# Try to get the API key from your OS environment, else use 'YOUR_API_KEY' as the default value in the code below.\n",
    "# You may use any environment variable you want, it doesn't have to be 'FEERSUM_NLU_AUTH_TOKEN'.\n",
    "feersum_nlu_auth_token = os.environ.get('FEERSUM_NLU_AUTH_TOKEN', 'YOUR_API_KEY')\n",
    "# print('feersum_nlu_auth_token = ', feersum_nlu_auth_token)\n",
    "\n",
    "# Configure API key authorization: APIKeyHeader\n",
    "configuration = feersum_nlu.Configuration()\n",
    "configuration.api_key['AUTH_TOKEN'] = feersum_nlu_auth_token\n",
    "\n",
    "# configuration.host = \"http://127.0.0.1:8100/nlu/v2\"\n",
    "configuration.host = \"https://nlu.dev.feersum.io:443/nlu/v2\""
   ]
  },
  {
   "cell_type": "code",
   "execution_count": null,
   "metadata": {},
   "outputs": [],
   "source": []
  },
  {
   "cell_type": "markdown",
   "metadata": {},
   "source": [
    "## Detect the language a piece of text is written in\n",
    "This model type allows one to load one of the Feersum pre-trained language classifiers. The 'lid_za' model loaded below is trained on the 11 South African languages and is typically quite accurate."
   ]
  },
  {
   "cell_type": "code",
   "execution_count": 3,
   "metadata": {},
   "outputs": [
    {
     "name": "stdout",
     "output_type": "stream",
     "text": [
      "\n",
      "Create the lr4 instance:\n",
      " type(api_response) <class 'feersum_nlu.models.language_recogniser_instance_detail.LanguageRecogniserInstanceDetail'>\n",
      " api_response {'desc': 'Test LR4 lang ident model.',\n",
      " 'id': '805f0606-7e2f-4662-9c96-d91e6dc9106e',\n",
      " 'lid_model_file': 'lid_za',\n",
      " 'long_name': None,\n",
      " 'name': 'test_lr4'}\n",
      "\n",
      "Get the details of specific named loaded lr4 instance:\n",
      " type(api_response) <class 'feersum_nlu.models.language_recogniser_instance_detail.LanguageRecogniserInstanceDetail'>\n",
      " api_response {'desc': 'Test LR4 lang ident model.',\n",
      " 'id': '805f0606-7e2f-4662-9c96-d91e6dc9106e',\n",
      " 'lid_model_file': 'lid_za',\n",
      " 'long_name': None,\n",
      " 'name': 'test_lr4'}\n",
      "\n"
     ]
    }
   ],
   "source": [
    "api_instance = feersum_nlu.LanguageRecognisersApi(feersum_nlu.ApiClient(configuration))\n",
    "\n",
    "instance_name = 'test_lr4'\n",
    "\n",
    "lr4_create_details = \\\n",
    "    feersum_nlu.LanguageRecogniserCreateDetails(name=instance_name, \n",
    "                                                desc=\"Test LR4 lang ident model.\",\n",
    "                                                lid_model_file='lid_za',\n",
    "                                                load_from_store=False)\n",
    "\n",
    "print()\n",
    "\n",
    "try:\n",
    "    print(\"Create the lr4 instance:\")\n",
    "    api_response = api_instance.language_recogniser_create(lr4_create_details)\n",
    "    print(\" type(api_response)\", type(api_response))\n",
    "    print(\" api_response\", api_response)\n",
    "    print()\n",
    "\n",
    "    # print(\"Get the details of all loaded lr4 instances:\")\n",
    "    # api_response = api_instance.language_recogniser_get_details_all()\n",
    "    # print(\" type(api_response)\", type(api_response))\n",
    "    # print(\" api_response\", api_response)\n",
    "    # print()\n",
    "\n",
    "    print(\"Get the details of specific named loaded lr4 instance:\")\n",
    "    api_response = api_instance.language_recogniser_get_details(instance_name)\n",
    "    print(\" type(api_response)\", type(api_response))\n",
    "    print(\" api_response\", api_response)\n",
    "    print()\n",
    "except ApiException as e:\n",
    "    print(\"Exception when calling an lr4 operation: %s\\n\" % e)\n",
    "except urllib3.exceptions.MaxRetryError:\n",
    "    print(\"Connection MaxRetryError!\")"
   ]
  },
  {
   "cell_type": "code",
   "execution_count": null,
   "metadata": {},
   "outputs": [],
   "source": []
  },
  {
   "cell_type": "code",
   "execution_count": 5,
   "metadata": {},
   "outputs": [
    {
     "name": "stdout",
     "output_type": "stream",
     "text": [
      "Identify the language of the text:\n",
      " type(api_response) <class 'list'>\n",
      " api_response [{'label': 'afr', 'probability': 1.0}, {'label': 'eng', 'probability': 8.524254965903201e-64}, {'label': 'tsn', 'probability': 2.9733428924454337e-72}, {'label': 'nso', 'probability': 3.36522938875841e-73}, {'label': 'sot', 'probability': 1.687730246604478e-74}, {'label': 'ven', 'probability': 7.929364759272614e-77}, {'label': 'ssw', 'probability': 2.047998941802787e-77}, {'label': 'tso', 'probability': 5.107531469214468e-78}, {'label': 'xho', 'probability': 5.702509796998947e-79}, {'label': 'zul', 'probability': 2.4015506950811543e-80}, {'label': 'nbl', 'probability': 1.6346405720458867e-80}]\n",
      "\n"
     ]
    }
   ],
   "source": [
    "text_input = feersum_nlu.TextInput(\"Ek sal graag wil weet watter tale die stelsel kan herken.\")\n",
    "\n",
    "try:\n",
    "    print(\"Identify the language of the text:\")\n",
    "    api_response = api_instance.language_recogniser_retrieve(instance_name, text_input)\n",
    "    print(\" type(api_response)\", type(api_response))\n",
    "    print(\" api_response\", api_response)\n",
    "    print()\n",
    "except ApiException as e:\n",
    "    print(\"Exception when calling an lr4 operation: %s\\n\" % e)\n",
    "except urllib3.exceptions.MaxRetryError:\n",
    "    print(\"Connection MaxRetryError!\")"
   ]
  },
  {
   "cell_type": "code",
   "execution_count": null,
   "metadata": {},
   "outputs": [],
   "source": []
  }
 ],
 "metadata": {
  "kernelspec": {
   "display_name": "Python 3",
   "language": "python",
   "name": "python3"
  },
  "language_info": {
   "codemirror_mode": {
    "name": "ipython",
    "version": 3
   },
   "file_extension": ".py",
   "mimetype": "text/x-python",
   "name": "python",
   "nbconvert_exporter": "python",
   "pygments_lexer": "ipython3",
   "version": "3.6.4"
  }
 },
 "nbformat": 4,
 "nbformat_minor": 1
}
