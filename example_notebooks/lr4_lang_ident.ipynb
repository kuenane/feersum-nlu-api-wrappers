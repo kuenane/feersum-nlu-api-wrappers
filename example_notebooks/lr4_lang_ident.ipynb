{
 "cells": [
  {
   "cell_type": "code",
   "execution_count": 1,
   "metadata": {},
   "outputs": [],
   "source": [
    "import os\n",
    "import sys\n",
    "module_path = os.path.abspath(os.path.join('..'))\n",
    "if module_path not in sys.path:\n",
    "    sys.path.append(module_path)\n",
    "\n",
    "import urllib3\n",
    "\n",
    "import feersum_nlu\n",
    "from feersum_nlu.rest import ApiException"
   ]
  },
  {
   "cell_type": "code",
   "execution_count": null,
   "metadata": {},
   "outputs": [],
   "source": []
  },
  {
   "cell_type": "markdown",
   "metadata": {},
   "source": [
    "## Setup the API key and service endpoint"
   ]
  },
  {
   "cell_type": "code",
   "execution_count": 2,
   "metadata": {},
   "outputs": [],
   "source": [
    "# Try to get the API key from your OS environment, else use 'YOUR_API_KEY' as the default value in the code below.\n",
    "# You may use any environment variable you want, it doesn't have to be 'FEERSUM_NLU_AUTH_TOKEN'.\n",
    "feersum_nlu_auth_token = os.environ.get('FEERSUM_NLU_AUTH_TOKEN', 'YOUR_API_KEY')\n",
    "# print('feersum_nlu_auth_token = ', feersum_nlu_auth_token)\n",
    "\n",
    "# Configure API key authorization: APIKeyHeader\n",
    "configuration = feersum_nlu.Configuration()\n",
    "configuration.api_key['AUTH_TOKEN'] = feersum_nlu_auth_token\n",
    "\n",
    "# configuration.host = \"http://127.0.0.1:8100/nlu/v2\"\n",
    "configuration.host = \"https://nlu.playground.feersum.io:443/nlu/v2\""
   ]
  },
  {
   "cell_type": "code",
   "execution_count": null,
   "metadata": {},
   "outputs": [],
   "source": []
  },
  {
   "cell_type": "markdown",
   "metadata": {},
   "source": [
    "## Detect the language a piece of text is written in\n",
    "This model type allows one to load one of the Feersum pre-trained language classifiers. The 'lid_za' model loaded below is trained on the 11 South African languages and is typically quite accurate."
   ]
  },
  {
   "cell_type": "code",
   "execution_count": 3,
   "metadata": {},
   "outputs": [
    {
     "name": "stdout",
     "output_type": "stream",
     "text": [
      "\n",
      "Create the lr4 instance:\n",
      " type(api_response) <class 'feersum_nlu.models.lr4_instance_detail.Lr4InstanceDetail'>\n",
      " api_response {'desc': 'Test LR4 lang ident model.',\n",
      " 'id': 'bb8d4764-5876-42ff-865e-84bf5a40097d',\n",
      " 'lid_model_file': 'lid_za',\n",
      " 'name': 'test_lr4'}\n",
      "\n",
      "Get the details of all loaded lr4 instances:\n",
      " type(api_response) <class 'list'>\n",
      " api_response [{'desc': 'Test LR4 lang ident model.', 'id': 'bb8d4764-5876-42ff-865e-84bf5a40097d', 'lid_model_file': 'lid_za', 'name': 'test_lr4'}, {'desc': 'LR4 text lang ID model.', 'id': '2f02d255-7e76-47c2-bf51-a5f4067e1e22', 'lid_model_file': 'lid_za', 'name': 'test_model'}]\n",
      "\n",
      "Get the details of specific named loaded lr4 instance:\n",
      " type(api_response) <class 'feersum_nlu.models.lr4_instance_detail.Lr4InstanceDetail'>\n",
      " api_response {'desc': 'Test LR4 lang ident model.',\n",
      " 'id': 'bb8d4764-5876-42ff-865e-84bf5a40097d',\n",
      " 'lid_model_file': 'lid_za',\n",
      " 'name': 'test_lr4'}\n",
      "\n"
     ]
    }
   ],
   "source": [
    "api_instance = feersum_nlu.Lr4LanguageRecognisersApi(feersum_nlu.ApiClient(configuration))\n",
    "\n",
    "instance_name = 'test_lr4'\n",
    "\n",
    "lr4_create_details = \\\n",
    "    feersum_nlu.Lr4CreateDetails(name=instance_name, desc=\"Test LR4 lang ident model.\",\n",
    "                                 lid_model_file='lid_za')\n",
    "\n",
    "print()\n",
    "\n",
    "try:\n",
    "    print(\"Create the lr4 instance:\")\n",
    "    api_response = api_instance.lr4_language_recogniser_create(lr4_create_details)\n",
    "    print(\" type(api_response)\", type(api_response))\n",
    "    print(\" api_response\", api_response)\n",
    "    print()\n",
    "\n",
    "    print(\"Get the details of all loaded lr4 instances:\")\n",
    "    api_response = api_instance.lr4_language_recogniser_get_details_all()\n",
    "    print(\" type(api_response)\", type(api_response))\n",
    "    print(\" api_response\", api_response)\n",
    "    print()\n",
    "\n",
    "    print(\"Get the details of specific named loaded lr4 instance:\")\n",
    "    api_response = api_instance.lr4_language_recogniser_get_details(instance_name)\n",
    "    print(\" type(api_response)\", type(api_response))\n",
    "    print(\" api_response\", api_response)\n",
    "    print()\n",
    "except ApiException as e:\n",
    "    print(\"Exception when calling an lr4 operation: %s\\n\" % e)\n",
    "except urllib3.exceptions.MaxRetryError:\n",
    "    print(\"Connection MaxRetryError!\")"
   ]
  },
  {
   "cell_type": "code",
   "execution_count": null,
   "metadata": {},
   "outputs": [],
   "source": []
  },
  {
   "cell_type": "code",
   "execution_count": 5,
   "metadata": {},
   "outputs": [
    {
     "name": "stdout",
     "output_type": "stream",
     "text": [
      "Identify the language of the text:\n",
      " type(api_response) <class 'list'>\n",
      " api_response [{'label': 'afr', 'probability': 1.0}, {'label': 'eng', 'probability': 4.6399620652591184e-66}, {'label': 'tsn', 'probability': 2.669192791427995e-74}, {'label': 'nso', 'probability': 5.127728227071581e-75}, {'label': 'sot', 'probability': 4.905025197024676e-76}, {'label': 'ssw', 'probability': 3.5820417615409026e-78}, {'label': 'tso', 'probability': 7.70284612934137e-79}, {'label': 'ven', 'probability': 3.879994993330337e-79}, {'label': 'zul', 'probability': 5.409538289118996e-82}, {'label': 'xho', 'probability': 4.408000301187807e-82}, {'label': 'nbl', 'probability': 1.4740476314996983e-83}]\n",
      "\n"
     ]
    }
   ],
   "source": [
    "text_input = feersum_nlu.TextInput(\"Ek sal graag wil weet watter tale die stelsel kan herken.\")\n",
    "\n",
    "try:\n",
    "    print(\"Identify the language of the text:\")\n",
    "    api_response = api_instance.lr4_language_recogniser_retrieve(instance_name, text_input)\n",
    "    print(\" type(api_response)\", type(api_response))\n",
    "    print(\" api_response\", api_response)\n",
    "    print()\n",
    "except ApiException as e:\n",
    "    print(\"Exception when calling an lr4 operation: %s\\n\" % e)\n",
    "except urllib3.exceptions.MaxRetryError:\n",
    "    print(\"Connection MaxRetryError!\")"
   ]
  },
  {
   "cell_type": "code",
   "execution_count": null,
   "metadata": {},
   "outputs": [],
   "source": []
  }
 ],
 "metadata": {
  "kernelspec": {
   "display_name": "Python 3",
   "language": "python",
   "name": "python3"
  },
  "language_info": {
   "codemirror_mode": {
    "name": "ipython",
    "version": 3
   },
   "file_extension": ".py",
   "mimetype": "text/x-python",
   "name": "python",
   "nbconvert_exporter": "python",
   "pygments_lexer": "ipython3",
   "version": "3.6.3"
  }
 },
 "nbformat": 4,
 "nbformat_minor": 1
}
