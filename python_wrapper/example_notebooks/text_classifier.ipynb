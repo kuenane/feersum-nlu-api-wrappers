{
 "cells": [
  {
   "cell_type": "code",
   "execution_count": 1,
   "metadata": {},
   "outputs": [],
   "source": [
    "import os\n",
    "import sys\n",
    "module_path = os.path.abspath(os.path.join('..'))\n",
    "if module_path not in sys.path:\n",
    "    sys.path.append(module_path)\n",
    "\n",
    "import urllib3\n",
    "\n",
    "import feersum_nlu\n",
    "from feersum_nlu.rest import ApiException"
   ]
  },
  {
   "cell_type": "code",
   "execution_count": null,
   "metadata": {},
   "outputs": [],
   "source": [
    ""
   ]
  },
  {
   "cell_type": "markdown",
   "metadata": {},
   "source": [
    "## Setup the API key and service endpoint"
   ]
  },
  {
   "cell_type": "code",
   "execution_count": 2,
   "metadata": {},
   "outputs": [],
   "source": [
    "# Configure API key authorization: APIKeyHeader\n",
    "feersum_nlu.configuration.api_key['AUTH_TOKEN'] = 'YOUR_API_KEY'\n",
    "\n",
    "# feersum_nlu.configuration.host = \"http://127.0.0.1:443/nlu/v2\"\n",
    "feersum_nlu.configuration.host = \"http://nlu.playground.feersum.io:443/nlu/v2\""
   ]
  },
  {
   "cell_type": "code",
   "execution_count": null,
   "metadata": {},
   "outputs": [],
   "source": [
    ""
   ]
  },
  {
   "cell_type": "markdown",
   "metadata": {},
   "source": [
    "## Build a classifier of text utterances into class/action labels. \n",
    "Create a Bayesian text classifier, train it up and make a prediction."
   ]
  },
  {
   "cell_type": "code",
   "execution_count": 3,
   "metadata": {},
   "outputs": [
    {
     "name": "stdout",
     "output_type": "stream",
     "text": [
      "\n",
      "Create the text classifier:\n",
      " type(api_response) <class 'feersum_nlu.models.instance_detail.InstanceDetail'>\n",
      " api_response {'cm_labels': None,\n",
      " 'desc': 'Test text classifier.',\n",
      " 'id': 'ef6559d1-7de8-4584-ad91-91deca525724',\n",
      " 'name': 'test_txt_clsfr',\n",
      " 'training_accuracy': None,\n",
      " 'training_cm': None,\n",
      " 'training_stamp': None}\n",
      "\n",
      "Add training samples to the text classifier:\n",
      " type(api_response) <class 'feersum_nlu.models.total_samples.TotalSamples'>\n",
      " api_response {'total_samples': 2}\n",
      "\n",
      "Get the training samples of the text classifier:\n",
      " type(api_response) <class 'list'>\n",
      " api_response [{'label': 'claim', 'text': 'I would like to fill in a claim form'}, {'label': 'quote', 'text': 'I would like to get a quote'}]\n",
      "\n",
      "Del the training samples of the text classifier:\n",
      " type(api_response) <class 'list'>\n",
      " api_response [{'label': 'claim', 'text': 'I would like to fill in a claim form'}, {'label': 'quote', 'text': 'I would like to get a quote'}]\n",
      "\n",
      "Add training samples to the text classifier:\n",
      " type(api_response) <class 'feersum_nlu.models.total_samples.TotalSamples'>\n",
      " api_response {'total_samples': 2}\n",
      "\n",
      "Train the text classifier:\n",
      " type(api_response) <class 'feersum_nlu.models.instance_detail.InstanceDetail'>\n",
      " api_response {'cm_labels': None,\n",
      " 'desc': 'Test text classifier.',\n",
      " 'id': 'e3f86b0d-6af7-421d-b0ac-1ff3485d9389',\n",
      " 'name': 'test_txt_clsfr',\n",
      " 'training_accuracy': 1.0,\n",
      " 'training_cm': {'claim': {'claim': 1}, 'quote': {'quote': 1}},\n",
      " 'training_stamp': '2017-10-19 11:38:48.881295'}\n",
      "\n",
      "Get the details of all loaded text classifiers:\n",
      " type(api_response) <class 'list'>\n",
      " api_response [{'desc': 'Test text classifier.', 'id': 'e3f86b0d-6af7-421d-b0ac-1ff3485d9389', 'name': 'test_txt_clsfr', 'testing_accuracy': 0.0, 'testing_cm': {}, 'testing_f1': 0.0, 'training_accuracy': 1.0, 'training_cm': {'claim': {'claim': 1}, 'quote': {'quote': 1}}, 'training_f1': 1.0, 'training_stamp': '2017-10-19 11:38:48.881295'}]\n",
      "\n",
      "Get the details of specific named loaded text classifiers:\n",
      " type(api_response) <class 'feersum_nlu.models.instance_detail.InstanceDetail'>\n",
      " api_response {'cm_labels': None,\n",
      " 'desc': 'Test text classifier.',\n",
      " 'id': 'e3f86b0d-6af7-421d-b0ac-1ff3485d9389',\n",
      " 'name': 'test_txt_clsfr',\n",
      " 'training_accuracy': 1.0,\n",
      " 'training_cm': {'claim': {'claim': 1}, 'quote': {'quote': 1}},\n",
      " 'training_stamp': '2017-10-19 11:38:48.881295'}\n",
      "\n"
     ]
    }
   ],
   "source": [
    "api_instance = feersum_nlu.TextClassifiersApi()\n",
    "\n",
    "instance_name = 'test_txt_clsfr'\n",
    "\n",
    "create_details = feersum_nlu.CreateDetails(name=instance_name, desc=\"Test text classifier.\", load_from_store=False)\n",
    "\n",
    "# The training samples.\n",
    "labelled_text_sample_list = []\n",
    "labelled_text_sample_list.append(feersum_nlu.LabelledTextSample(text=\"I would like to fill in a claim form\",\n",
    "                                                                label=\"claim\"))\n",
    "labelled_text_sample_list.append(feersum_nlu.LabelledTextSample(text=\"I would like to get a quote\",\n",
    "                                                                label=\"quote\"))\n",
    "\n",
    "train_details = feersum_nlu.TrainDetails(immediate_mode=True)\n",
    "\n",
    "print()\n",
    "\n",
    "try:\n",
    "    print(\"Create the text classifier:\")\n",
    "    api_response = api_instance.text_classifier_create(create_details)\n",
    "    print(\" type(api_response)\", type(api_response))\n",
    "    print(\" api_response\", api_response)\n",
    "    print()\n",
    "\n",
    "    print(\"Add training samples to the text classifier:\")\n",
    "    api_response = api_instance.text_classifier_add_training_samples(instance_name, labelled_text_sample_list)\n",
    "    print(\" type(api_response)\", type(api_response))\n",
    "    print(\" api_response\", api_response)\n",
    "    print()\n",
    "\n",
    "    print(\"Get the training samples of the text classifier:\")\n",
    "    api_response = api_instance.text_classifier_get_training_samples(instance_name)\n",
    "    print(\" type(api_response)\", type(api_response))\n",
    "    print(\" api_response\", api_response)\n",
    "    print()\n",
    "\n",
    "    print(\"Del the training samples of the text classifier:\")\n",
    "    api_response = api_instance.text_classifier_del_training_samples(instance_name)\n",
    "    print(\" type(api_response)\", type(api_response))\n",
    "    print(\" api_response\", api_response)\n",
    "    print()\n",
    "\n",
    "    print(\"Add training samples to the text classifier:\")\n",
    "    api_response = api_instance.text_classifier_add_training_samples(instance_name, labelled_text_sample_list)\n",
    "    print(\" type(api_response)\", type(api_response))\n",
    "    print(\" api_response\", api_response)\n",
    "    print()\n",
    "\n",
    "    print(\"Train the text classifier:\")\n",
    "    api_response = api_instance.text_classifier_train(instance_name, train_details)\n",
    "    print(\" type(api_response)\", type(api_response))\n",
    "    print(\" api_response\", api_response)\n",
    "    print()\n",
    "\n",
    "    print(\"Get the details of all loaded text classifiers:\")\n",
    "    api_response = api_instance.text_classifier_get_details_all()\n",
    "    print(\" type(api_response)\", type(api_response))\n",
    "    print(\" api_response\", api_response)\n",
    "    print()\n",
    "\n",
    "    print(\"Get the details of specific named loaded text classifiers:\")\n",
    "    api_response = api_instance.text_classifier_get_details(instance_name)\n",
    "    print(\" type(api_response)\", type(api_response))\n",
    "    print(\" api_response\", api_response)\n",
    "    print()\n",
    "except ApiException as e:\n",
    "    print(\"Exception when calling a text classifier operation: %s\\n\" % e)\n",
    "except urllib3.exceptions.MaxRetryError:\n",
    "    print(\"Connection MaxRetryError!\")"
   ]
  },
  {
   "cell_type": "code",
   "execution_count": null,
   "metadata": {},
   "outputs": [],
   "source": [
    ""
   ]
  },
  {
   "cell_type": "code",
   "execution_count": 4,
   "metadata": {},
   "outputs": [
    {
     "name": "stdout",
     "output_type": "stream",
     "text": [
      "Classify text:\n",
      " type(api_response) <class 'list'>\n",
      " api_response [{'label': 'claim', 'probability': 0.8610865663421693}, {'label': 'quote', 'probability': 0.13891343365782938}]\n",
      "\n"
     ]
    }
   ],
   "source": [
    "text_input = feersum_nlu.TextInput(\"I would please like to fill in a claim form.\")\n",
    "\n",
    "try:\n",
    "    print(\"Classify text:\")\n",
    "    api_response = api_instance.text_classifier_retrieve(instance_name, text_input)\n",
    "    print(\" type(api_response)\", type(api_response))\n",
    "    print(\" api_response\", api_response)\n",
    "    print()\n",
    "except ApiException as e:\n",
    "    print(\"Exception when calling a text classifier operation: %s\\n\" % e)\n",
    "except urllib3.exceptions.MaxRetryError:\n",
    "    print(\"Connection MaxRetryError!\")"
   ]
  },
  {
   "cell_type": "code",
   "execution_count": null,
   "metadata": {},
   "outputs": [],
   "source": [
    ""
   ]
  }
 ],
 "metadata": {
  "kernelspec": {
   "display_name": "Python 3",
   "language": "python",
   "name": "python3"
  },
  "language_info": {
   "codemirror_mode": {
    "name": "ipython",
    "version": 3.0
   },
   "file_extension": ".py",
   "mimetype": "text/x-python",
   "name": "python",
   "nbconvert_exporter": "python",
   "pygments_lexer": "ipython3",
   "version": "3.6.3"
  }
 },
 "nbformat": 4,
 "nbformat_minor": 0
}