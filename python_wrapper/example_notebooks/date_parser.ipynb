{
 "cells": [
  {
   "cell_type": "code",
   "execution_count": 1,
   "metadata": {},
   "outputs": [],
   "source": [
    "import os\n",
    "import sys\n",
    "module_path = os.path.abspath(os.path.join('..'))\n",
    "if module_path not in sys.path:\n",
    "    sys.path.append(module_path)\n",
    "\n",
    "import urllib3\n",
    "\n",
    "import feersum_nlu\n",
    "from feersum_nlu.rest import ApiException"
   ]
  },
  {
   "cell_type": "code",
   "execution_count": null,
   "metadata": {},
   "outputs": [],
   "source": [
    ""
   ]
  },
  {
   "cell_type": "markdown",
   "metadata": {},
   "source": [
    "## Setup the API key and service endpoint"
   ]
  },
  {
   "cell_type": "code",
   "execution_count": 4,
   "metadata": {},
   "outputs": [],
   "source": [
    "# Configure API key authorization: APIKeyHeader\n",
    "feersum_nlu.configuration.api_key['AUTH_TOKEN'] = 'YOUR_API_KEY'\n",
    "\n",
    "# feersum_nlu.configuration.host = \"http://127.0.0.1:8100/nlu/v2\"\n",
    "feersum_nlu.configuration.host = \"http://nlu.playground.feersum.io:8100/nlu/v2\""
   ]
  },
  {
   "cell_type": "code",
   "execution_count": null,
   "metadata": {},
   "outputs": [],
   "source": [
    ""
   ]
  },
  {
   "cell_type": "markdown",
   "metadata": {},
   "source": [
    "## Parse a date using the DateParser API\n",
    "This API allows one to turn text into structured dates. Only absolute date values are supported. See the Duckling entity extractor API to parse durations and intervals.\n",
    "\n",
    "A 'generic' model is built-in to the service. At a later stage one would be able to create a model configured to your language and domain."
   ]
  },
  {
   "cell_type": "code",
   "execution_count": 5,
   "metadata": {},
   "outputs": [
    {
     "name": "stdout",
     "output_type": "stream",
     "text": [
      "\n",
      "Extract dates:\n",
      "Exception when calling DateParsersApi->date_parser_retrieve: (400)\n",
      "Reason: BAD REQUEST\n",
      "HTTP response headers: HTTPHeaderDict({'Content-Type': 'application/json', 'Content-Length': '62', 'Server': 'Werkzeug/0.12.2 Python/3.5.2', 'Date': 'Wed, 11 Oct 2017 21:34:23 GMT'})\n",
      "HTTP response body: {\n",
      "  \"error_detail\": \"Invalid authorisation token provided!\"\n",
      "}\n",
      "\n",
      "\n",
      "\n"
     ]
    }
   ],
   "source": [
    "api_instance = feersum_nlu.DateParsersApi()\n",
    "\n",
    "model_instance_name = 'generic'\n",
    "text_input = feersum_nlu.TextInput(\"The day after tomorrow at 11:00 in the evening.\")  # TextInput | The input text.\n",
    "\n",
    "print()\n",
    "\n",
    "try:\n",
    "    print(\"Extract dates:\")\n",
    "    api_response = api_instance.date_parser_retrieve(model_instance_name, text_input)\n",
    "    print(\" type(api_response)\", type(api_response))\n",
    "    print(\" api_response\", api_response)\n",
    "    print()\n",
    "except ApiException as e:\n",
    "    print(\"Exception when calling DateParsersApi->date_parser_retrieve: %s\\n\" % e)\n",
    "except urllib3.exceptions.MaxRetryError:\n",
    "    print(\"Connection MaxRetryError!\")"
   ]
  },
  {
   "cell_type": "code",
   "execution_count": null,
   "metadata": {},
   "outputs": [],
   "source": [
    ""
   ]
  }
 ],
 "metadata": {
  "kernelspec": {
   "display_name": "Python 3",
   "language": "python",
   "name": "python3"
  },
  "language_info": {
   "codemirror_mode": {
    "name": "ipython",
    "version": 3.0
   },
   "file_extension": ".py",
   "mimetype": "text/x-python",
   "name": "python",
   "nbconvert_exporter": "python",
   "pygments_lexer": "ipython3",
   "version": "3.6.3"
  }
 },
 "nbformat": 4,
 "nbformat_minor": 0
}