{
 "cells": [
  {
   "cell_type": "code",
   "execution_count": 7,
   "metadata": {},
   "outputs": [],
   "source": [
    "import os\n",
    "import sys\n",
    "module_path = os.path.abspath(os.path.join('..'))\n",
    "if module_path not in sys.path:\n",
    "    sys.path.append(module_path)\n",
    "\n",
    "import urllib3\n",
    "\n",
    "import feersum_nlu\n",
    "from feersum_nlu.rest import ApiException"
   ]
  },
  {
   "cell_type": "code",
   "execution_count": null,
   "metadata": {},
   "outputs": [],
   "source": []
  },
  {
   "cell_type": "markdown",
   "metadata": {},
   "source": [
    "## Setup the API key and service endpoint"
   ]
  },
  {
   "cell_type": "code",
   "execution_count": 8,
   "metadata": {},
   "outputs": [],
   "source": [
    "# Configure API key authorization: APIKeyHeader\n",
    "feersum_nlu.configuration.api_key['AUTH_TOKEN'] = 'YOUR_API_KEY'\n",
    "\n",
    "# feersum_nlu.configuration.host = \"http://127.0.0.1:8100/nlu/v2\"\n",
    "feersum_nlu.configuration.host = \"http://nlu.playground.feersum.io:8100/nlu/v2\""
   ]
  },
  {
   "cell_type": "code",
   "execution_count": null,
   "metadata": {},
   "outputs": [],
   "source": []
  },
  {
   "cell_type": "markdown",
   "metadata": {},
   "source": [
    "## Extract entities from text using the Duckling entity extractor API\n",
    "This API allows one to turn text into structured data. Date values, intervals and durations are currently exposed. "
   ]
  },
  {
   "cell_type": "code",
   "execution_count": 9,
   "metadata": {},
   "outputs": [
    {
     "name": "stdout",
     "output_type": "stream",
     "text": [
      "\n",
      "Create the entity extractor:\n",
      " type(api_response) <class 'feersum_nlu.models.duckling_instance_detail.DucklingInstanceDetail'>\n",
      " api_response {'desc': 'Test duckling extractor.',\n",
      " 'id': '7738235c-3542-49ab-88da-bb3435e1c293',\n",
      " 'name': 'test_duckling_extr'}\n",
      "\n",
      "Get the details of all loaded entity extractors:\n",
      " type(api_response) <class 'list'>\n",
      " api_response [{'desc': 'Test duckling extractor.', 'id': '7738235c-3542-49ab-88da-bb3435e1c293', 'name': 'test_duckling_extr'}]\n",
      "\n",
      "Get the details of specific named loaded entity extractor:\n",
      " type(api_response) <class 'feersum_nlu.models.duckling_instance_detail.DucklingInstanceDetail'>\n",
      " api_response {'desc': 'Test duckling extractor.',\n",
      " 'id': '7738235c-3542-49ab-88da-bb3435e1c293',\n",
      " 'name': 'test_duckling_extr'}\n",
      "\n",
      "Extract entities:\n",
      " type(api_response) <class 'list'>\n",
      " api_response [{'body': 'The day after tomorrow at 11:00 in the evening', 'dim': 'time', 'grain': 'minute', 'value': '2017-10-13T23:00:00.000+02:00'}, {'body': 'The day after tomorrow at 11:00 in the evening', 'dim': 'time', 'grain': 'minute', 'value': '2017-10-13T23:00:00.000+02:00'}]\n",
      "\n"
     ]
    }
   ],
   "source": [
    "api_instance = feersum_nlu.DucklingEntityExtractorsApi()\n",
    "\n",
    "instance_name = 'test_duckling_extr'\n",
    "\n",
    "duckling_ent_create_details = \\\n",
    "    feersum_nlu.DucklingEntCreateDetails(name=instance_name, desc=\"Test duckling extractor.\",\n",
    "                                         load_from_store=False)\n",
    "\n",
    "text_input = feersum_nlu.TextInput(\"The day after tomorrow at 11:00 in the evening.\")\n",
    "\n",
    "print()\n",
    "\n",
    "try:\n",
    "    print(\"Create the entity extractor:\")\n",
    "    api_response = api_instance.duckling_entity_extractor_create(duckling_ent_create_details)\n",
    "    print(\" type(api_response)\", type(api_response))\n",
    "    print(\" api_response\", api_response)\n",
    "    print()\n",
    "\n",
    "    print(\"Get the details of all loaded entity extractors:\")\n",
    "    api_response = api_instance.duckling_entity_extractor_get_details_all()\n",
    "    print(\" type(api_response)\", type(api_response))\n",
    "    print(\" api_response\", api_response)\n",
    "    print()\n",
    "\n",
    "    print(\"Get the details of specific named loaded entity extractor:\")\n",
    "    api_response = api_instance.duckling_entity_extractor_get_details(instance_name)\n",
    "    print(\" type(api_response)\", type(api_response))\n",
    "    print(\" api_response\", api_response)\n",
    "    print()\n",
    "\n",
    "    print(\"Extract entities:\")\n",
    "    api_response = api_instance.duckling_entity_extractor_retrieve(instance_name, text_input)\n",
    "    print(\" type(api_response)\", type(api_response))\n",
    "    print(\" api_response\", api_response)\n",
    "    print()\n",
    "except ApiException as e:\n",
    "    print(\"Exception when calling a entity extractor operation: %s\\n\" % e)\n",
    "except urllib3.exceptions.MaxRetryError:\n",
    "    print(\"Connection MaxRetryError!\")\n"
   ]
  },
  {
   "cell_type": "code",
   "execution_count": null,
   "metadata": {},
   "outputs": [],
   "source": []
  }
 ],
 "metadata": {
  "kernelspec": {
   "display_name": "Python 3",
   "language": "python",
   "name": "python3"
  },
  "language_info": {
   "codemirror_mode": {
    "name": "ipython",
    "version": 3
   },
   "file_extension": ".py",
   "mimetype": "text/x-python",
   "name": "python",
   "nbconvert_exporter": "python",
   "pygments_lexer": "ipython3",
   "version": "3.6.3"
  }
 },
 "nbformat": 4,
 "nbformat_minor": 2
}
