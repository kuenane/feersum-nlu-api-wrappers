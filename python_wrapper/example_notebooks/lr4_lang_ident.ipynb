{
 "cells": [
  {
   "cell_type": "code",
   "execution_count": 1,
   "metadata": {},
   "outputs": [],
   "source": [
    "import os\n",
    "import sys\n",
    "module_path = os.path.abspath(os.path.join('..'))\n",
    "if module_path not in sys.path:\n",
    "    sys.path.append(module_path)\n",
    "\n",
    "import urllib3\n",
    "\n",
    "import feersum_nlu\n",
    "from feersum_nlu.rest import ApiException"
   ]
  },
  {
   "cell_type": "code",
   "execution_count": null,
   "metadata": {},
   "outputs": [],
   "source": [
    ""
   ]
  },
  {
   "cell_type": "markdown",
   "metadata": {},
   "source": [
    "## Setup the API key and service endpoint"
   ]
  },
  {
   "cell_type": "code",
   "execution_count": 2,
   "metadata": {},
   "outputs": [],
   "source": [
    "# Configure API key authorization: APIKeyHeader\n",
    "feersum_nlu.configuration.api_key['AUTH_TOKEN'] = 'YOUR_API_KEY'\n",
    "\n",
    "# feersum_nlu.configuration.host = \"http://127.0.0.1:443/nlu/v2\"\n",
    "feersum_nlu.configuration.host = \"http://nlu.playground.feersum.io:443/nlu/v2\""
   ]
  },
  {
   "cell_type": "code",
   "execution_count": null,
   "metadata": {},
   "outputs": [],
   "source": [
    ""
   ]
  },
  {
   "cell_type": "markdown",
   "metadata": {},
   "source": [
    "## Detect the language a piece of text is written in\n",
    "This model type allows one to load one of the Feersum pre-trained language classifiers. The 'lid_za' model loaded below is trained on the 11 South African languages and is typically quite accurate."
   ]
  },
  {
   "cell_type": "code",
   "execution_count": 10,
   "metadata": {},
   "outputs": [
    {
     "name": "stdout",
     "output_type": "stream",
     "text": [
      "\n",
      "Create the lr4 instance:\n",
      " type(api_response) <class 'feersum_nlu.models.lr4_instance_detail.Lr4InstanceDetail'>\n",
      " api_response {'desc': 'Test LR4 lang ident model.',\n",
      " 'id': 'deb25b38-718d-4cbd-a845-4b42a6b569e7',\n",
      " 'model_file': None,\n",
      " 'name': 'test_lr4'}\n",
      "\n",
      "Get the details of all loaded lr4 instances:\n",
      " type(api_response) <class 'list'>\n",
      " api_response [{'desc': 'Test LR4 lang ident model.', 'id': 'deb25b38-718d-4cbd-a845-4b42a6b569e7', 'name': 'test_lr4', 'txt_clsfr_model_name': 'lid_za'}]\n",
      "\n",
      "Get the details of specific named loaded lr4 instance:\n",
      " type(api_response) <class 'feersum_nlu.models.lr4_instance_detail.Lr4InstanceDetail'>\n",
      " api_response {'desc': 'Test LR4 lang ident model.',\n",
      " 'id': 'deb25b38-718d-4cbd-a845-4b42a6b569e7',\n",
      " 'model_file': None,\n",
      " 'name': 'test_lr4'}\n",
      "\n"
     ]
    }
   ],
   "source": [
    "api_instance = feersum_nlu.Lr4LanguageRecognisersApi()\n",
    "\n",
    "instance_name = 'test_lr4'\n",
    "\n",
    "lr4_create_details = \\\n",
    "    feersum_nlu.Lr4CreateDetails(name=instance_name, desc=\"Test LR4 lang ident model.\",\n",
    "                                 model_file='lid_za')\n",
    "\n",
    "print()\n",
    "\n",
    "try:\n",
    "    print(\"Create the lr4 instance:\")\n",
    "    api_response = api_instance.lr4_language_recogniser_create(lr4_create_details)\n",
    "    print(\" type(api_response)\", type(api_response))\n",
    "    print(\" api_response\", api_response)\n",
    "    print()\n",
    "\n",
    "    print(\"Get the details of all loaded lr4 instances:\")\n",
    "    api_response = api_instance.lr4_language_recogniser_get_details_all()\n",
    "    print(\" type(api_response)\", type(api_response))\n",
    "    print(\" api_response\", api_response)\n",
    "    print()\n",
    "\n",
    "    print(\"Get the details of specific named loaded lr4 instance:\")\n",
    "    api_response = api_instance.lr4_language_recogniser_get_details(instance_name)\n",
    "    print(\" type(api_response)\", type(api_response))\n",
    "    print(\" api_response\", api_response)\n",
    "    print()\n",
    "except ApiException as e:\n",
    "    print(\"Exception when calling an lr4 operation: %s\\n\" % e)\n",
    "except urllib3.exceptions.MaxRetryError:\n",
    "    print(\"Connection MaxRetryError!\")"
   ]
  },
  {
   "cell_type": "code",
   "execution_count": null,
   "metadata": {},
   "outputs": [],
   "source": [
    ""
   ]
  },
  {
   "cell_type": "code",
   "execution_count": 11,
   "metadata": {},
   "outputs": [
    {
     "name": "stdout",
     "output_type": "stream",
     "text": [
      "Identify the language of the text:\n",
      " type(api_response) <class 'list'>\n",
      " api_response [{'label': 'eng', 'probability': 1.0}, {'label': 'afr', 'probability': 1.1054487494867225e-40}, {'label': 'ssw', 'probability': 2.1880272367576198e-47}, {'label': 'zul', 'probability': 7.061850796977847e-48}, {'label': 'nbl', 'probability': 3.21748217504345e-51}, {'label': 'ven', 'probability': 2.2151533817719773e-51}, {'label': 'tsn', 'probability': 1.581552778292043e-51}, {'label': 'xho', 'probability': 1.515539503725235e-51}, {'label': 'nso', 'probability': 7.753347711179049e-52}, {'label': 'sot', 'probability': 2.701474732084334e-52}, {'label': 'tso', 'probability': 1.1750477780573076e-53}]\n",
      "\n"
     ]
    }
   ],
   "source": [
    "text_input = feersum_nlu.TextInput(\"The day after tomorrow at 11:00 in the evening.\")\n",
    "\n",
    "try:\n",
    "    print(\"Identify the language of the text:\")\n",
    "    api_response = api_instance.lr4_language_recogniser_retrieve(instance_name, text_input)\n",
    "    print(\" type(api_response)\", type(api_response))\n",
    "    print(\" api_response\", api_response)\n",
    "    print()\n",
    "except ApiException as e:\n",
    "    print(\"Exception when calling an lr4 operation: %s\\n\" % e)\n",
    "except urllib3.exceptions.MaxRetryError:\n",
    "    print(\"Connection MaxRetryError!\")"
   ]
  },
  {
   "cell_type": "code",
   "execution_count": null,
   "metadata": {},
   "outputs": [],
   "source": [
    ""
   ]
  }
 ],
 "metadata": {
  "kernelspec": {
   "display_name": "Python 3",
   "language": "python",
   "name": "python3"
  },
  "language_info": {
   "codemirror_mode": {
    "name": "ipython",
    "version": 3.0
   },
   "file_extension": ".py",
   "mimetype": "text/x-python",
   "name": "python",
   "nbconvert_exporter": "python",
   "pygments_lexer": "ipython3",
   "version": "3.6.3"
  }
 },
 "nbformat": 4,
 "nbformat_minor": 0
}