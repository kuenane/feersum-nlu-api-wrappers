{
 "cells": [
  {
   "cell_type": "code",
   "execution_count": 1,
   "metadata": {},
   "outputs": [],
   "source": [
    "import os\n",
    "import sys\n",
    "module_path = os.path.abspath(os.path.join('..'))\n",
    "if module_path not in sys.path:\n",
    "    sys.path.append(module_path)\n",
    "\n",
    "import urllib3\n",
    "\n",
    "import feersum_nlu\n",
    "from feersum_nlu.rest import ApiException"
   ]
  },
  {
   "cell_type": "code",
   "execution_count": null,
   "metadata": {},
   "outputs": [],
   "source": []
  },
  {
   "cell_type": "markdown",
   "metadata": {},
   "source": [
    "## Setup the API key and service endpoint"
   ]
  },
  {
   "cell_type": "code",
   "execution_count": 2,
   "metadata": {},
   "outputs": [],
   "source": [
    "# Configure API key authorization: APIKeyHeader\n",
    "feersum_nlu.configuration.api_key['AUTH_TOKEN'] = 'YOUR_API_KEY'\n",
    "\n",
    "# feersum_nlu.configuration.host = \"http://127.0.0.1:8100/nlu/v2\"\n",
    "feersum_nlu.configuration.host = \"http://nlu.playground.feersum.io:8100/nlu/v2\""
   ]
  },
  {
   "cell_type": "code",
   "execution_count": null,
   "metadata": {},
   "outputs": [],
   "source": []
  },
  {
   "cell_type": "markdown",
   "metadata": {},
   "source": [
    "## Detect the language a piece of text is written in\n",
    "This model type allows one to load one of the Feersum pre-trained language classifiers. The 'lid_za' model loaded below is trained on the 11 South African languages and is typically quite accurate."
   ]
  },
  {
   "cell_type": "code",
   "execution_count": 3,
   "metadata": {},
   "outputs": [
    {
     "name": "stdout",
     "output_type": "stream",
     "text": [
      "\n",
      "Create the lr4 instance:\n",
      " type(api_response) <class 'feersum_nlu.models.lr4_instance_detail.Lr4InstanceDetail'>\n",
      " api_response {'desc': 'Test LR4 lang ident model.',\n",
      " 'id': '72b53caa-6fc0-464e-a498-6829f68fbfbc',\n",
      " 'model_file': None,\n",
      " 'name': 'test_lr4'}\n",
      "\n",
      "Get the details of all loaded lr4 instances:\n",
      " type(api_response) <class 'list'>\n",
      " api_response [{'desc': 'Test LR4 lang ident model.', 'id': '72b53caa-6fc0-464e-a498-6829f68fbfbc', 'name': 'test_lr4', 'txt_clsfr_model_name': 'lid_za'}]\n",
      "\n",
      "Get the details of specific named loaded lr4 instance:\n",
      " type(api_response) <class 'feersum_nlu.models.lr4_instance_detail.Lr4InstanceDetail'>\n",
      " api_response {'desc': 'Test LR4 lang ident model.',\n",
      " 'id': '72b53caa-6fc0-464e-a498-6829f68fbfbc',\n",
      " 'model_file': None,\n",
      " 'name': 'test_lr4'}\n",
      "\n",
      "Identify the language of the text:\n"
     ]
    },
    {
     "ename": "NameError",
     "evalue": "name 'text_input' is not defined",
     "output_type": "error",
     "traceback": [
      "\u001b[0;31m---------------------------------------------------------------------------\u001b[0m",
      "\u001b[0;31mNameError\u001b[0m                                 Traceback (most recent call last)",
      "\u001b[0;32m<ipython-input-3-60784d2f31d0>\u001b[0m in \u001b[0;36m<module>\u001b[0;34m()\u001b[0m\n\u001b[1;32m     28\u001b[0m \u001b[0;34m\u001b[0m\u001b[0m\n\u001b[1;32m     29\u001b[0m     \u001b[0mprint\u001b[0m\u001b[0;34m(\u001b[0m\u001b[0;34m\"Identify the language of the text:\"\u001b[0m\u001b[0;34m)\u001b[0m\u001b[0;34m\u001b[0m\u001b[0m\n\u001b[0;32m---> 30\u001b[0;31m     \u001b[0mapi_response\u001b[0m \u001b[0;34m=\u001b[0m \u001b[0mapi_instance\u001b[0m\u001b[0;34m.\u001b[0m\u001b[0mlr4_language_recogniser_retrieve\u001b[0m\u001b[0;34m(\u001b[0m\u001b[0minstance_name\u001b[0m\u001b[0;34m,\u001b[0m \u001b[0mtext_input\u001b[0m\u001b[0;34m)\u001b[0m\u001b[0;34m\u001b[0m\u001b[0m\n\u001b[0m\u001b[1;32m     31\u001b[0m     \u001b[0mprint\u001b[0m\u001b[0;34m(\u001b[0m\u001b[0;34m\" type(api_response)\"\u001b[0m\u001b[0;34m,\u001b[0m \u001b[0mtype\u001b[0m\u001b[0;34m(\u001b[0m\u001b[0mapi_response\u001b[0m\u001b[0;34m)\u001b[0m\u001b[0;34m)\u001b[0m\u001b[0;34m\u001b[0m\u001b[0m\n\u001b[1;32m     32\u001b[0m     \u001b[0mprint\u001b[0m\u001b[0;34m(\u001b[0m\u001b[0;34m\" api_response\"\u001b[0m\u001b[0;34m,\u001b[0m \u001b[0mapi_response\u001b[0m\u001b[0;34m)\u001b[0m\u001b[0;34m\u001b[0m\u001b[0m\n",
      "\u001b[0;31mNameError\u001b[0m: name 'text_input' is not defined"
     ]
    }
   ],
   "source": [
    "api_instance = feersum_nlu.Lr4LanguageRecognisersApi()\n",
    "\n",
    "instance_name = 'test_lr4'\n",
    "\n",
    "lr4_create_details = \\\n",
    "    feersum_nlu.Lr4CreateDetails(name=instance_name, desc=\"Test LR4 lang ident model.\",\n",
    "                                 model_file='lid_za')\n",
    "\n",
    "print()\n",
    "\n",
    "try:\n",
    "    print(\"Create the lr4 instance:\")\n",
    "    api_response = api_instance.lr4_language_recogniser_create(lr4_create_details)\n",
    "    print(\" type(api_response)\", type(api_response))\n",
    "    print(\" api_response\", api_response)\n",
    "    print()\n",
    "\n",
    "    print(\"Get the details of all loaded lr4 instances:\")\n",
    "    api_response = api_instance.lr4_language_recogniser_get_details_all()\n",
    "    print(\" type(api_response)\", type(api_response))\n",
    "    print(\" api_response\", api_response)\n",
    "    print()\n",
    "\n",
    "    print(\"Get the details of specific named loaded lr4 instance:\")\n",
    "    api_response = api_instance.lr4_language_recogniser_get_details(instance_name)\n",
    "    print(\" type(api_response)\", type(api_response))\n",
    "    print(\" api_response\", api_response)\n",
    "    print()\n",
    "\n",
    "    print(\"Identify the language of the text:\")\n",
    "    api_response = api_instance.lr4_language_recogniser_retrieve(instance_name, text_input)\n",
    "    print(\" type(api_response)\", type(api_response))\n",
    "    print(\" api_response\", api_response)\n",
    "    print()\n",
    "except ApiException as e:\n",
    "    print(\"Exception when calling an lr4 operation: %s\\n\" % e)\n",
    "except urllib3.exceptions.MaxRetryError:\n",
    "    print(\"Connection MaxRetryError!\")\n"
   ]
  },
  {
   "cell_type": "code",
   "execution_count": null,
   "metadata": {},
   "outputs": [],
   "source": []
  },
  {
   "cell_type": "code",
   "execution_count": 4,
   "metadata": {},
   "outputs": [
    {
     "name": "stdout",
     "output_type": "stream",
     "text": [
      "Identify the language of the text:\n",
      " type(api_response) <class 'list'>\n",
      " api_response [{'label': 'eng', 'probability': 1.0}, {'label': 'afr', 'probability': 1.3419957970512057e-43}, {'label': 'ssw', 'probability': 6.810003573679757e-49}, {'label': 'zul', 'probability': 9.260939587545747e-51}, {'label': 'nso', 'probability': 1.1545945386257552e-52}, {'label': 'ven', 'probability': 4.533449064314838e-53}, {'label': 'nbl', 'probability': 2.5039641048408626e-53}, {'label': 'xho', 'probability': 2.0023055618055272e-53}, {'label': 'tsn', 'probability': 2.3171806311892218e-54}, {'label': 'sot', 'probability': 1.985275133482187e-54}, {'label': 'tso', 'probability': 3.280392160173434e-55}]\n",
      "\n"
     ]
    }
   ],
   "source": [
    "text_input = feersum_nlu.TextInput(\"The day after tomorrow at 11:00 in the evening.\")\n",
    "\n",
    "try:\n",
    "    print(\"Identify the language of the text:\")\n",
    "    api_response = api_instance.lr4_language_recogniser_retrieve(instance_name, text_input)\n",
    "    print(\" type(api_response)\", type(api_response))\n",
    "    print(\" api_response\", api_response)\n",
    "    print()\n",
    "except ApiException as e:\n",
    "    print(\"Exception when calling an lr4 operation: %s\\n\" % e)\n",
    "except urllib3.exceptions.MaxRetryError:\n",
    "    print(\"Connection MaxRetryError!\")\n"
   ]
  },
  {
   "cell_type": "code",
   "execution_count": null,
   "metadata": {},
   "outputs": [],
   "source": []
  }
 ],
 "metadata": {
  "kernelspec": {
   "display_name": "Python 3",
   "language": "python",
   "name": "python3"
  },
  "language_info": {
   "codemirror_mode": {
    "name": "ipython",
    "version": 3
   },
   "file_extension": ".py",
   "mimetype": "text/x-python",
   "name": "python",
   "nbconvert_exporter": "python",
   "pygments_lexer": "ipython3",
   "version": "3.6.3"
  }
 },
 "nbformat": 4,
 "nbformat_minor": 2
}
