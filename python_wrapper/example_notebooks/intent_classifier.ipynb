{
 "cells": [
  {
   "cell_type": "code",
   "execution_count": 1,
   "metadata": {},
   "outputs": [],
   "source": [
    "import os\n",
    "import sys\n",
    "module_path = os.path.abspath(os.path.join('..'))\n",
    "if module_path not in sys.path:\n",
    "    sys.path.append(module_path)\n",
    "\n",
    "import urllib3\n",
    "\n",
    "import feersum_nlu\n",
    "from feersum_nlu.rest import ApiException"
   ]
  },
  {
   "cell_type": "code",
   "execution_count": null,
   "metadata": {},
   "outputs": [],
   "source": []
  },
  {
   "cell_type": "markdown",
   "metadata": {},
   "source": [
    "## Setup the API key and service endpoint"
   ]
  },
  {
   "cell_type": "code",
   "execution_count": 2,
   "metadata": {},
   "outputs": [],
   "source": [
    "# Configure API key authorization: APIKeyHeader\n",
    "feersum_nlu.configuration.api_key['AUTH_TOKEN'] = 'YOUR_API_KEY'\n",
    "\n",
    "# feersum_nlu.configuration.host = \"http://127.0.0.1:8100/nlu/v2\"\n",
    "feersum_nlu.configuration.host = \"http://nlu.playground.feersum.io:8100/nlu/v2\""
   ]
  },
  {
   "cell_type": "code",
   "execution_count": null,
   "metadata": {},
   "outputs": [],
   "source": []
  },
  {
   "cell_type": "markdown",
   "metadata": {},
   "source": [
    "## Build a classifier of text utterances into intent/action labels. \n",
    "Create an intent classifier, train it up and make a prediction."
   ]
  },
  {
   "cell_type": "code",
   "execution_count": 3,
   "metadata": {},
   "outputs": [
    {
     "name": "stdout",
     "output_type": "stream",
     "text": [
      "\n",
      "Create the intent classifier:\n",
      " type(api_response) <class 'feersum_nlu.models.instance_detail.InstanceDetail'>\n",
      " api_response {'cm_labels': None,\n",
      " 'desc': 'Test intent classifier.',\n",
      " 'id': '5275b823-f245-4ba2-9154-4be47fe04829',\n",
      " 'name': 'test_intent_clsfr',\n",
      " 'training_accuracy': None,\n",
      " 'training_cm': None,\n",
      " 'training_stamp': None}\n",
      "\n",
      "Add training samples to the intent classifier:\n",
      " type(api_response) <class 'feersum_nlu.models.total_samples.TotalSamples'>\n",
      " api_response {'total_samples': 2}\n",
      "\n",
      "Get the training samples of the intent classifier:\n",
      " type(api_response) <class 'list'>\n",
      " api_response [{'label': 'claim', 'text': 'I would like to fill in a claim form'}, {'label': 'quote', 'text': 'I would like to get a quote'}]\n",
      "\n",
      "Del the training samples of the intent classifier:\n",
      " type(api_response) <class 'list'>\n",
      " api_response [{'label': 'claim', 'text': 'I would like to fill in a claim form'}, {'label': 'quote', 'text': 'I would like to get a quote'}]\n",
      "\n",
      "Add training samples to the intent classifier:\n",
      " type(api_response) <class 'feersum_nlu.models.total_samples.TotalSamples'>\n",
      " api_response {'total_samples': 2}\n",
      "\n",
      "Train the intent classifier:\n",
      " type(api_response) <class 'feersum_nlu.models.instance_detail.InstanceDetail'>\n",
      " api_response {'cm_labels': None,\n",
      " 'desc': 'Test intent classifier.',\n",
      " 'id': 'c549d909-f425-49ba-92bb-15d508167feb',\n",
      " 'name': 'test_intent_clsfr',\n",
      " 'training_accuracy': 1.0,\n",
      " 'training_cm': {'claim': {'claim': 1}, 'quote': {'quote': 1}},\n",
      " 'training_stamp': '2017-10-11 17:23:16.578657'}\n",
      "\n",
      "Get the details of all loaded intent classifiers:\n",
      " type(api_response) <class 'list'>\n",
      " api_response [{'desc': 'MomConnect is a South African National Department of Health initiative which aims to support maternal health through the use of cell phone based technologies integrated into maternal and child health services. The services are free to the user, and messag', 'id': '3455ceac-3594-46f4-a8df-072ab1514ab5', 'name': 'MomConnect Intent Classifier', 'testing_accuracy': 0.0, 'testing_cm': {}, 'testing_f1': 0.0, 'training_accuracy': 1.0, 'training_cm': {'New lablel!': {'New lablel!': 1}, 'baby_week': {'baby_week': 2}, 'clinic_info': {'clinic_info': 1}, 'complaint': {'complaint': 1}, 'compliment': {'compliment': 2}, 'greeting': {'greeting': 1}, 'greeting (edit)': {'greeting (edit)': 1}, 'question': {'question': 2}}, 'training_f1': 1.0, 'training_stamp': '2017-10-11 16:34:04.388666', 'weak_match_threshold': 0.85, 'word_manifold': 'feers_wm_eng'}, {'desc': 'Test intent classifier.', 'id': 'c549d909-f425-49ba-92bb-15d508167feb', 'name': 'test_intent_clsfr', 'testing_accuracy': 0.0, 'testing_cm': {}, 'testing_f1': 0.0, 'training_accuracy': 1.0, 'training_cm': {'claim': {'claim': 1}, 'quote': {'quote': 1}}, 'training_f1': 1.0, 'training_stamp': '2017-10-11 17:23:16.578657', 'weak_match_threshold': 0.85, 'word_manifold': 'feers_wm_eng'}, {'desc': 'Example text classifier', 'id': '405e3dc8-0896-4818-93f4-9598cb0aaecb', 'name': 'intent_clsfr_ex_1', 'testing_accuracy': 0.0, 'testing_cm': {}, 'testing_f1': 0.0, 'training_accuracy': 1.0, 'training_cm': {'greeting': {'greeting': 2}, 'question': {'question': 3}}, 'training_f1': 1.0, 'training_stamp': '2017-10-10 18:15:24.758396', 'weak_match_threshold': 0.85, 'word_manifold': 'feers_wm_eng'}, {'desc': 'test', 'id': 'cae6f581-b652-4cd8-9320-7a0797899847', 'name': 'test', 'testing_accuracy': -1.0, 'testing_cm': {}, 'testing_f1': 0.0, 'training_accuracy': -1.0, 'training_cm': {}, 'training_f1': 0.0, 'training_stamp': '', 'weak_match_threshold': 1.0, 'word_manifold': ''}]\n",
      "\n",
      "Get the details of specific named loaded intent classifiers:\n",
      " type(api_response) <class 'feersum_nlu.models.instance_detail.InstanceDetail'>\n",
      " api_response {'cm_labels': None,\n",
      " 'desc': 'Test intent classifier.',\n",
      " 'id': 'c549d909-f425-49ba-92bb-15d508167feb',\n",
      " 'name': 'test_intent_clsfr',\n",
      " 'training_accuracy': 1.0,\n",
      " 'training_cm': {'claim': {'claim': 1}, 'quote': {'quote': 1}},\n",
      " 'training_stamp': '2017-10-11 17:23:16.578657'}\n",
      "\n"
     ]
    }
   ],
   "source": [
    "api_instance = feersum_nlu.IntentClassifiersApi()\n",
    "\n",
    "wm_instance_name = 'feers_wm_eng'\n",
    "instance_name = 'test_intent_clsfr'\n",
    "\n",
    "create_details = feersum_nlu.CreateDetails(name=instance_name, desc=\"Test intent classifier.\", load_from_store=False)\n",
    "\n",
    "# The training samples.\n",
    "labelled_text_sample_list = []\n",
    "labelled_text_sample_list.append(feersum_nlu.LabelledTextSample(text=\"I would like to fill in a claim form\",\n",
    "                                                                label=\"claim\"))\n",
    "labelled_text_sample_list.append(feersum_nlu.LabelledTextSample(text=\"I would like to get a quote\",\n",
    "                                                                label=\"quote\"))\n",
    "\n",
    "# train_details = feersum_nlu.TrainDetails(immediate_mode=True)\n",
    "train_details = feersum_nlu.TrainDetails(immediate_mode=True, word_manifold=wm_instance_name)\n",
    "\n",
    "print()\n",
    "\n",
    "try:\n",
    "    print(\"Create the intent classifier:\")\n",
    "    api_response = api_instance.intent_classifier_create(create_details)\n",
    "    print(\" type(api_response)\", type(api_response))\n",
    "    print(\" api_response\", api_response)\n",
    "    print()\n",
    "\n",
    "    print(\"Add training samples to the intent classifier:\")\n",
    "    api_response = api_instance.intent_classifier_add_training_samples(instance_name, labelled_text_sample_list)\n",
    "    print(\" type(api_response)\", type(api_response))\n",
    "    print(\" api_response\", api_response)\n",
    "    print()\n",
    "\n",
    "    print(\"Get the training samples of the intent classifier:\")\n",
    "    api_response = api_instance.intent_classifier_get_training_samples(instance_name)\n",
    "    print(\" type(api_response)\", type(api_response))\n",
    "    print(\" api_response\", api_response)\n",
    "    print()\n",
    "\n",
    "    print(\"Del the training samples of the intent classifier:\")\n",
    "    api_response = api_instance.intent_classifier_del_training_samples(instance_name)\n",
    "    print(\" type(api_response)\", type(api_response))\n",
    "    print(\" api_response\", api_response)\n",
    "    print()\n",
    "\n",
    "    print(\"Add training samples to the intent classifier:\")\n",
    "    api_response = api_instance.intent_classifier_add_training_samples(instance_name, labelled_text_sample_list)\n",
    "    print(\" type(api_response)\", type(api_response))\n",
    "    print(\" api_response\", api_response)\n",
    "    print()\n",
    "\n",
    "    print(\"Train the intent classifier:\")\n",
    "    api_response = api_instance.intent_classifier_train(instance_name, train_details)\n",
    "    print(\" type(api_response)\", type(api_response))\n",
    "    print(\" api_response\", api_response)\n",
    "    print()\n",
    "\n",
    "    print(\"Get the details of all loaded intent classifiers:\")\n",
    "    api_response = api_instance.intent_classifier_get_details_all()\n",
    "    print(\" type(api_response)\", type(api_response))\n",
    "    print(\" api_response\", api_response)\n",
    "    print()\n",
    "\n",
    "    print(\"Get the details of specific named loaded intent classifiers:\")\n",
    "    api_response = api_instance.intent_classifier_get_details(instance_name)\n",
    "    print(\" type(api_response)\", type(api_response))\n",
    "    print(\" api_response\", api_response)\n",
    "    print()\n",
    "except ApiException as e:\n",
    "    print(\"Exception when calling an intent classifier operation: %s\\n\" % e)\n",
    "except urllib3.exceptions.MaxRetryError:\n",
    "    print(\"Connection MaxRetryError!\")\n"
   ]
  },
  {
   "cell_type": "code",
   "execution_count": null,
   "metadata": {},
   "outputs": [],
   "source": []
  },
  {
   "cell_type": "code",
   "execution_count": 4,
   "metadata": {},
   "outputs": [
    {
     "name": "stdout",
     "output_type": "stream",
     "text": [
      "Classify intent:\n",
      " type(api_response) <class 'list'>\n",
      " api_response [{'label': 'quote', 'probability': 0.47910239487902173}]\n",
      "\n"
     ]
    }
   ],
   "source": [
    "text_input = feersum_nlu.TextInput(\"How do I get a quote\")\n",
    "\n",
    "try:\n",
    "    print(\"Classify intent:\")\n",
    "    api_response = api_instance.intent_classifier_retrieve(instance_name, text_input)\n",
    "    print(\" type(api_response)\", type(api_response))\n",
    "    print(\" api_response\", api_response)\n",
    "    print()\n",
    "except ApiException as e:\n",
    "    print(\"Exception when calling an intent classifier operation: %s\\n\" % e)\n",
    "except urllib3.exceptions.MaxRetryError:\n",
    "    print(\"Connection MaxRetryError!\")"
   ]
  },
  {
   "cell_type": "code",
   "execution_count": null,
   "metadata": {},
   "outputs": [],
   "source": []
  }
 ],
 "metadata": {
  "kernelspec": {
   "display_name": "Python 3",
   "language": "python",
   "name": "python3"
  },
  "language_info": {
   "codemirror_mode": {
    "name": "ipython",
    "version": 3
   },
   "file_extension": ".py",
   "mimetype": "text/x-python",
   "name": "python",
   "nbconvert_exporter": "python",
   "pygments_lexer": "ipython3",
   "version": "3.6.3"
  }
 },
 "nbformat": 4,
 "nbformat_minor": 2
}
