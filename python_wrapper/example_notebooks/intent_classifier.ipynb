{
 "cells": [
  {
   "cell_type": "code",
   "execution_count": 1,
   "metadata": {},
   "outputs": [],
   "source": [
    "import os\n",
    "import sys\n",
    "module_path = os.path.abspath(os.path.join('..'))\n",
    "if module_path not in sys.path:\n",
    "    sys.path.append(module_path)\n",
    "\n",
    "import urllib3\n",
    "\n",
    "import feersum_nlu\n",
    "from feersum_nlu.rest import ApiException"
   ]
  },
  {
   "cell_type": "code",
   "execution_count": null,
   "metadata": {},
   "outputs": [],
   "source": [
    ""
   ]
  },
  {
   "cell_type": "markdown",
   "metadata": {},
   "source": [
    "## Setup the API key and service endpoint"
   ]
  },
  {
   "cell_type": "code",
   "execution_count": 3,
   "metadata": {},
   "outputs": [],
   "source": [
    "# Configure API key authorization: APIKeyHeader\n",
    "feersum_nlu.configuration.api_key['AUTH_TOKEN'] = 'YOUR_API_KEY'\n",
    "\n",
    "# feersum_nlu.configuration.host = \"http://127.0.0.1:443/nlu/v2\"\n",
    "feersum_nlu.configuration.host = \"http://nlu.playground.feersum.io:443/nlu/v2\""
   ]
  },
  {
   "cell_type": "code",
   "execution_count": null,
   "metadata": {},
   "outputs": [],
   "source": [
    ""
   ]
  },
  {
   "cell_type": "markdown",
   "metadata": {},
   "source": [
    "## Build a classifier of text utterances into intent/action labels. \n",
    "Create an intent classifier, train it up and make a prediction."
   ]
  },
  {
   "cell_type": "code",
   "execution_count": 4,
   "metadata": {},
   "outputs": [
    {
     "name": "stdout",
     "output_type": "stream",
     "text": [
      "\n",
      "Create the intent classifier:\n",
      " type(api_response) <class 'feersum_nlu.models.instance_detail.InstanceDetail'>\n",
      " api_response {'cm_labels': None,\n",
      " 'desc': 'Test intent classifier.',\n",
      " 'id': '116d569a-523d-47f0-9540-c63f16bc07d9',\n",
      " 'name': 'test_intent_clsfr',\n",
      " 'training_accuracy': None,\n",
      " 'training_cm': None,\n",
      " 'training_stamp': None}\n",
      "\n",
      "Add training samples to the intent classifier:\n",
      " type(api_response) <class 'feersum_nlu.models.total_samples.TotalSamples'>\n",
      " api_response {'total_samples': 2}\n",
      "\n",
      "Get the training samples of the intent classifier:\n",
      " type(api_response) <class 'list'>\n",
      " api_response [{'label': 'claim', 'text': 'I would like to fill in a claim form'}, {'label': 'quote', 'text': 'I would like to get a quote'}]\n",
      "\n",
      "Del the training samples of the intent classifier:\n",
      " type(api_response) <class 'list'>\n",
      " api_response [{'label': 'claim', 'text': 'I would like to fill in a claim form'}, {'label': 'quote', 'text': 'I would like to get a quote'}]\n",
      "\n",
      "Add training samples to the intent classifier:\n",
      " type(api_response) <class 'feersum_nlu.models.total_samples.TotalSamples'>\n",
      " api_response {'total_samples': 2}\n",
      "\n",
      "Train the intent classifier:\n",
      " type(api_response) <class 'feersum_nlu.models.instance_detail.InstanceDetail'>\n",
      " api_response {'cm_labels': {'0': 'claim', '1': 'quote'},\n",
      " 'desc': 'Test intent classifier.',\n",
      " 'id': '622bf392-027a-413f-b60f-a72659301666',\n",
      " 'name': 'test_intent_clsfr',\n",
      " 'training_accuracy': 1.0,\n",
      " 'training_cm': {'0': {'0': 1}, '1': {'1': 1}},\n",
      " 'training_stamp': '2017-10-19 11:35:47.299970'}\n",
      "\n",
      "Get the details of all loaded intent classifiers:\n",
      " type(api_response) <class 'list'>\n",
      " api_response [{'cm_labels': {'0': 'claim', '1': 'quote'}, 'desc': 'Test intent classifier.', 'id': '622bf392-027a-413f-b60f-a72659301666', 'name': 'test_intent_clsfr', 'testing_accuracy': 0.0, 'testing_cm': {}, 'testing_f1': 0.0, 'training_accuracy': 1.0, 'training_cm': {'0': {'0': 1}, '1': {'1': 1}}, 'training_f1': 1.0, 'training_stamp': '2017-10-19 11:35:47.299970', 'weak_match_threshold': 0.85, 'word_manifold_dict': {'eng': 'feers_wm_eng'}}, {'cm_labels': {'0': 'greeting', '1': 'compliment', '2': 'complaint', '3': 'question', '4': 'clinic_info', '5': 'baby_week'}, 'desc': 'dfgsdfgsdfg', 'id': '3c5a53ce-e3d4-4fba-af12-b46a12439a8b', 'name': 'Test', 'testing_accuracy': 0.0, 'testing_cm': {}, 'testing_f1': 0.0, 'training_accuracy': 1.0, 'training_cm': {'0': {'0': 3}, '1': {'1': 2}, '2': {'2': 1}, '3': {'3': 2}, '4': {'4': 1}, '5': {'5': 2}}, 'training_f1': 1.0, 'training_stamp': '2017-10-18 13:52:41.772354', 'weak_match_threshold': 0.85, 'word_manifold_dict': {'eng': 'feers_wm_eng'}}]\n",
      "\n",
      "Get the details of specific named loaded intent classifiers:\n",
      " type(api_response) <class 'feersum_nlu.models.instance_detail.InstanceDetail'>\n",
      " api_response {'cm_labels': {'0': 'claim', '1': 'quote'},\n",
      " 'desc': 'Test intent classifier.',\n",
      " 'id': '622bf392-027a-413f-b60f-a72659301666',\n",
      " 'name': 'test_intent_clsfr',\n",
      " 'training_accuracy': 1.0,\n",
      " 'training_cm': {'0': {'0': 1}, '1': {'1': 1}},\n",
      " 'training_stamp': '2017-10-19 11:35:47.299970'}\n",
      "\n"
     ]
    }
   ],
   "source": [
    "api_instance = feersum_nlu.IntentClassifiersApi()\n",
    "\n",
    "wm_instance_name = 'feers_wm_eng'\n",
    "instance_name = 'test_intent_clsfr'\n",
    "\n",
    "create_details = feersum_nlu.CreateDetails(name=instance_name, desc=\"Test intent classifier.\", load_from_store=False)\n",
    "\n",
    "# The training samples.\n",
    "labelled_text_sample_list = []\n",
    "labelled_text_sample_list.append(feersum_nlu.LabelledTextSample(text=\"I would like to fill in a claim form\",\n",
    "                                                                label=\"claim\"))\n",
    "labelled_text_sample_list.append(feersum_nlu.LabelledTextSample(text=\"I would like to get a quote\",\n",
    "                                                                label=\"quote\"))\n",
    "\n",
    "# train_details = feersum_nlu.TrainDetails(immediate_mode=True)\n",
    "train_details = feersum_nlu.TrainDetails(immediate_mode=True, word_manifold=wm_instance_name)\n",
    "\n",
    "print()\n",
    "\n",
    "try:\n",
    "    print(\"Create the intent classifier:\")\n",
    "    api_response = api_instance.intent_classifier_create(create_details)\n",
    "    print(\" type(api_response)\", type(api_response))\n",
    "    print(\" api_response\", api_response)\n",
    "    print()\n",
    "\n",
    "    print(\"Add training samples to the intent classifier:\")\n",
    "    api_response = api_instance.intent_classifier_add_training_samples(instance_name, labelled_text_sample_list)\n",
    "    print(\" type(api_response)\", type(api_response))\n",
    "    print(\" api_response\", api_response)\n",
    "    print()\n",
    "\n",
    "    print(\"Get the training samples of the intent classifier:\")\n",
    "    api_response = api_instance.intent_classifier_get_training_samples(instance_name)\n",
    "    print(\" type(api_response)\", type(api_response))\n",
    "    print(\" api_response\", api_response)\n",
    "    print()\n",
    "\n",
    "    print(\"Del the training samples of the intent classifier:\")\n",
    "    api_response = api_instance.intent_classifier_del_training_samples(instance_name)\n",
    "    print(\" type(api_response)\", type(api_response))\n",
    "    print(\" api_response\", api_response)\n",
    "    print()\n",
    "\n",
    "    print(\"Add training samples to the intent classifier:\")\n",
    "    api_response = api_instance.intent_classifier_add_training_samples(instance_name, labelled_text_sample_list)\n",
    "    print(\" type(api_response)\", type(api_response))\n",
    "    print(\" api_response\", api_response)\n",
    "    print()\n",
    "\n",
    "    print(\"Train the intent classifier:\")\n",
    "    api_response = api_instance.intent_classifier_train(instance_name, train_details)\n",
    "    print(\" type(api_response)\", type(api_response))\n",
    "    print(\" api_response\", api_response)\n",
    "    print()\n",
    "\n",
    "    print(\"Get the details of all loaded intent classifiers:\")\n",
    "    api_response = api_instance.intent_classifier_get_details_all()\n",
    "    print(\" type(api_response)\", type(api_response))\n",
    "    print(\" api_response\", api_response)\n",
    "    print()\n",
    "\n",
    "    print(\"Get the details of specific named loaded intent classifiers:\")\n",
    "    api_response = api_instance.intent_classifier_get_details(instance_name)\n",
    "    print(\" type(api_response)\", type(api_response))\n",
    "    print(\" api_response\", api_response)\n",
    "    print()\n",
    "except ApiException as e:\n",
    "    print(\"Exception when calling an intent classifier operation: %s\\n\" % e)\n",
    "except urllib3.exceptions.MaxRetryError:\n",
    "    print(\"Connection MaxRetryError!\")"
   ]
  },
  {
   "cell_type": "code",
   "execution_count": null,
   "metadata": {},
   "outputs": [],
   "source": [
    ""
   ]
  },
  {
   "cell_type": "code",
   "execution_count": 5,
   "metadata": {},
   "outputs": [
    {
     "name": "stdout",
     "output_type": "stream",
     "text": [
      "Classify intent:\n",
      " type(api_response) <class 'list'>\n",
      " api_response [{'label': 'quote', 'probability': 0.47910239487902173}]\n",
      "\n"
     ]
    }
   ],
   "source": [
    "text_input = feersum_nlu.TextInput(\"How do I get a quote\")\n",
    "\n",
    "try:\n",
    "    print(\"Classify intent:\")\n",
    "    api_response = api_instance.intent_classifier_retrieve(instance_name, text_input)\n",
    "    print(\" type(api_response)\", type(api_response))\n",
    "    print(\" api_response\", api_response)\n",
    "    print()\n",
    "except ApiException as e:\n",
    "    print(\"Exception when calling an intent classifier operation: %s\\n\" % e)\n",
    "except urllib3.exceptions.MaxRetryError:\n",
    "    print(\"Connection MaxRetryError!\")"
   ]
  },
  {
   "cell_type": "code",
   "execution_count": null,
   "metadata": {},
   "outputs": [],
   "source": [
    ""
   ]
  }
 ],
 "metadata": {
  "kernelspec": {
   "display_name": "Python 3",
   "language": "python",
   "name": "python3"
  },
  "language_info": {
   "codemirror_mode": {
    "name": "ipython",
    "version": 3.0
   },
   "file_extension": ".py",
   "mimetype": "text/x-python",
   "name": "python",
   "nbconvert_exporter": "python",
   "pygments_lexer": "ipython3",
   "version": "3.6.3"
  }
 },
 "nbformat": 4,
 "nbformat_minor": 0
}