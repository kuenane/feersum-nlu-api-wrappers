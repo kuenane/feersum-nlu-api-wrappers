{
 "cells": [
  {
   "cell_type": "code",
   "execution_count": 1,
   "metadata": {},
   "outputs": [],
   "source": [
    "import os\n",
    "import sys\n",
    "module_path = os.path.abspath(os.path.join('..'))\n",
    "if module_path not in sys.path:\n",
    "    sys.path.append(module_path)\n",
    "\n",
    "import urllib3\n",
    "\n",
    "import feersum_nlu\n",
    "from feersum_nlu.rest import ApiException"
   ]
  },
  {
   "cell_type": "code",
   "execution_count": null,
   "metadata": {},
   "outputs": [],
   "source": [
    ""
   ]
  },
  {
   "cell_type": "markdown",
   "metadata": {},
   "source": [
    "## Setup the API key and service endpoint"
   ]
  },
  {
   "cell_type": "code",
   "execution_count": 2,
   "metadata": {},
   "outputs": [],
   "source": [
    "# Configure API key authorization: APIKeyHeader\n",
    "feersum_nlu.configuration.api_key['AUTH_TOKEN'] = 'YOUR_API_KEY'\n",
    "\n",
    "# feersum_nlu.configuration.host = \"http://127.0.0.1:8100/nlu/v2\"\n",
    "feersum_nlu.configuration.host = \"https://nlu.playground.feersum.io:443/nlu/v2\""
   ]
  },
  {
   "cell_type": "code",
   "execution_count": null,
   "metadata": {},
   "outputs": [],
   "source": [
    ""
   ]
  },
  {
   "cell_type": "markdown",
   "metadata": {},
   "source": [
    "## Build a multi-language FAQ model \n",
    "Create an FAQ matcher, train it up and make a prediction."
   ]
  },
  {
   "cell_type": "code",
   "execution_count": 3,
   "metadata": {},
   "outputs": [
    {
     "name": "stdout",
     "output_type": "stream",
     "text": [
      "\n",
      "Create the FAQ matcher:\n",
      " type(api_response) <class 'feersum_nlu.models.instance_detail.InstanceDetail'>\n",
      " api_response {'cm_labels': None,\n",
      " 'desc': 'Test FAQ matcher.',\n",
      " 'id': 'f6f67bea-cc26-4d86-92f2-63e1e81141c8',\n",
      " 'name': 'test_faq_mtchr',\n",
      " 'training_accuracy': None,\n",
      " 'training_cm': None,\n",
      " 'training_stamp': None}\n",
      "\n",
      "Add training samples to the FAQ matcher:\n",
      " type(api_response) <class 'feersum_nlu.models.total_samples.TotalSamples'>\n",
      " api_response {'total_samples': 4}\n",
      "\n",
      "Get the training samples of the FAQ matcher:\n",
      " type(api_response) <class 'list'>\n",
      " api_response [{'label': 'claim', 'text': 'How do I claim?'}, {'label': 'claim', 'text': 'Hoe moet ek eis?'}, {'label': 'quote', 'text': 'How do I get a quote?'}, {'label': 'quote', 'text': \"Hoe kan ek 'n prys kry?\"}]\n",
      "\n",
      "Del the training samples of the FAQ matcher:\n",
      " type(api_response) <class 'list'>\n",
      " api_response [{'label': 'claim', 'text': 'How do I claim?'}, {'label': 'claim', 'text': 'Hoe moet ek eis?'}, {'label': 'quote', 'text': 'How do I get a quote?'}, {'label': 'quote', 'text': \"Hoe kan ek 'n prys kry?\"}]\n",
      "\n",
      "Add training samples to the FAQ matcher:\n",
      " type(api_response) <class 'feersum_nlu.models.total_samples.TotalSamples'>\n",
      " api_response {'total_samples': 4}\n",
      "\n",
      "Train the FAQ matcher:\n",
      " type(api_response) <class 'feersum_nlu.models.instance_detail.InstanceDetail'>\n",
      " api_response {'cm_labels': {'0': 'claim', '1': 'quote'},\n",
      " 'desc': 'Test FAQ matcher.',\n",
      " 'id': '9bba8e22-9c72-4697-a088-70b25debd59d',\n",
      " 'name': 'test_faq_mtchr',\n",
      " 'training_accuracy': 1.0,\n",
      " 'training_cm': {'0': {'0': 2}, '1': {'1': 2}},\n",
      " 'training_stamp': '2017-10-19 11:35:16.953347'}\n",
      "\n",
      "Get the details of all loaded FAQ matcher:\n",
      " type(api_response) <class 'list'>\n",
      " api_response [{'cm_labels': {'0': 'For voice, data and SMS coverage issues, please set your Carrier/Network settings to Automatic on your device. You must also switch data roaming on, on your device. If you need further assistance please contact our Customer Service Centre.', '1': 'Check if Real-time payment has been collected and explain the invoice to the customer using payments tab on Customer Care Portal.', '10': 'Please enter the following into your dialer*140*cell number#', '11': 'Please enter *111# into your dialer.', '12': 'Make sure that the customer has their background data disabled on their smartphone for apps that may be updating or running in the background. Please purchase data/voice and SMS bundles as you will be charged out of bundle rates when using your prepaid airtime balance. Make sure that the Customer has purchased FNB Connect airtime instead of another network airtime.', '13': 'A customer can change their debit order date via USSD (*147#) or you may open a case with the details and date requested and assign it to customer support. Please note that the debit date change will be effective on the 1st of the next month which you requested.', '14': 'Check on Customer Care Portal if the customer has any promo SIM deal (SIM issued with a device). Advise the customer of any out of bundle charges as some promo SIMs are postpaid.', '15': 'Advise the customer that subscriptions will remain blocked even after a SIM swap was done, Assist the customer by unblocking the SIM on Customer Care Portal.', '2': 'Check to see if the customer’s debit order was successful on Customer Care Portal, confirm successful debit on Banking System if needed.', '3': 'If your SIM is delivered via courier it will be activated 24 hours after delivery. If you wish to activate the SIM immediately after receiving your SIM from the courier, you can use the following channels: FNB Online Banking, FNB Cellphone Banking (*120*321#), FNB ATM, FNB Banking App, FNB *147#. Please note:\\xa0It is advisable to only activate the SIM once you have received it.', '4': 'You can unblock your Connect SIM by using FNB Online Banking or at an FNB ATM. Or unblock the SIM using Customer Care Portal.', '5': 'You can block your Connect SIM by using FNB Online Banking or at an FNB ATM. Or call 147 for further assistance.', '6': 'You can get your PUK Number via *147#/FNB App or Online banking. Or locate on Customer Care Portal under product information.', '7': 'Instruct the customer that in order to port out if you have a prepaid Connect SIM and have been on the network longer than 60 consecutive days. If the customer is on a contract, Escalate to PST and request a port reversal and new number allocation. The number will be sent back to the Previous network provider, you will need to instruct the customer to get a new SIM from the previous network provider where they can allocate the old number to a new SIM.', '8': 'You assist the customer by opening a case on New Sale and request an upward migration, please note for any Top Up package, you will be debited in advance and migrated on the 1st on the next month from which you have requested the upgrade.', '9': 'Attempt to retain the customer, if the customer is adamant, open a case and assign if to the Retentions team.'}, 'desc': 'FAQ Matcher for FNB?.', 'id': '8adc87db-4ed3-40e0-b5aa-bba8de5579bc', 'name': 'FNB_FAQ', 'testing_accuracy': 0.0, 'testing_cm': {}, 'testing_f1': 0.0, 'training_accuracy': 1.0, 'training_cm': {'0': {'0': 1}, '1': {'1': 1}, '10': {'10': 1}, '11': {'11': 1}, '12': {'12': 1}, '13': {'13': 1}, '14': {'14': 1}, '15': {'15': 1}, '2': {'2': 1}, '3': {'3': 1}, '4': {'4': 1}, '5': {'5': 2}, '6': {'6': 1}, '7': {'7': 1}, '8': {'8': 1}, '9': {'9': 1}}, 'training_f1': 1.0, 'training_stamp': '2017-10-18 11:26:29.398050', 'weak_match_threshold': 0.85, 'word_manifold_dict': {'eng': 'feers_wm_eng'}}, {'cm_labels': {'0': 'claim', '1': 'quote'}, 'desc': 'Test FAQ matcher.', 'id': '9bba8e22-9c72-4697-a088-70b25debd59d', 'name': 'test_faq_mtchr', 'testing_accuracy': 0.0, 'testing_cm': {}, 'testing_f1': 0.0, 'training_accuracy': 1.0, 'training_cm': {'0': {'0': 2}, '1': {'1': 2}}, 'training_f1': 1.0, 'training_stamp': '2017-10-19 11:35:16.953347', 'weak_match_threshold': 0.85, 'word_manifold_dict': {'afr': 'feers_wm_afr', 'eng': 'feers_wm_eng', 'nbl': 'feers_wm_nbl', 'nso': 'feers_wm_nso', 'sot': 'feers_wm_sot', 'ssw': 'feers_wm_ssw', 'tsn': 'feers_wm_tsn', 'tso': 'feers_wm_tso', 'ven': 'feers_wm_ven', 'xho': 'feers_wm_xho', 'zul': 'feers_wm_zul'}}]\n",
      "\n",
      "Get the details of specific named loaded FAQ matcher:\n",
      " type(api_response) <class 'feersum_nlu.models.instance_detail.InstanceDetail'>\n",
      " api_response {'cm_labels': {'0': 'claim', '1': 'quote'},\n",
      " 'desc': 'Test FAQ matcher.',\n",
      " 'id': '9bba8e22-9c72-4697-a088-70b25debd59d',\n",
      " 'name': 'test_faq_mtchr',\n",
      " 'training_accuracy': 1.0,\n",
      " 'training_cm': {'0': {'0': 2}, '1': {'1': 2}},\n",
      " 'training_stamp': '2017-10-19 11:35:16.953347'}\n",
      "\n"
     ]
    }
   ],
   "source": [
    "api_instance = feersum_nlu.FaqMatchersApi()\n",
    "\n",
    "instance_name = 'test_faq_mtchr'\n",
    "\n",
    "create_details = feersum_nlu.CreateDetails(name=instance_name, desc=\"Test FAQ matcher.\", load_from_store=False)\n",
    "\n",
    "# The training samples.\n",
    "labelled_text_sample_list = []\n",
    "labelled_text_sample_list.append(feersum_nlu.LabelledTextSample(text=\"How do I claim?\",\n",
    "                                                                label=\"claim\"))\n",
    "labelled_text_sample_list.append(feersum_nlu.LabelledTextSample(text=\"Hoe moet ek eis?\",\n",
    "                                                                label=\"claim\"))\n",
    "\n",
    "labelled_text_sample_list.append(feersum_nlu.LabelledTextSample(text=\"How do I get a quote?\",\n",
    "                                                                label=\"quote\"))\n",
    "labelled_text_sample_list.append(feersum_nlu.LabelledTextSample(text=\"Hoe kan ek 'n prys kry?\",\n",
    "                                                                label=\"quote\"))\n",
    "\n",
    "# Use default English manifold.\n",
    "# train_details = feersum_nlu.TrainDetails(immediate_mode=True)\n",
    "# OR\n",
    "# Use specified single manifold; the language defaults to English.\n",
    "# train_details = feersum_nlu.TrainDetails(immediate_mode=True, word_manifold=wm_instance_name)\n",
    "# OR\n",
    "# Use specified list of manifolds for multiple languaages.\n",
    "word_manifold_list = [feersum_nlu.LabeledWordManifold('eng', 'feers_wm_eng'),\n",
    "                      feersum_nlu.LabeledWordManifold('afr', 'feers_wm_afr'),\n",
    "                      feersum_nlu.LabeledWordManifold('nbl', 'feers_wm_nbl'),\n",
    "                      feersum_nlu.LabeledWordManifold('xho', 'feers_wm_xho'),\n",
    "                      feersum_nlu.LabeledWordManifold('zul', 'feers_wm_zul'),\n",
    "                      feersum_nlu.LabeledWordManifold('ssw', 'feers_wm_ssw'),\n",
    "                      feersum_nlu.LabeledWordManifold('nso', 'feers_wm_nso'),\n",
    "                      feersum_nlu.LabeledWordManifold('sot', 'feers_wm_sot'),\n",
    "                      feersum_nlu.LabeledWordManifold('tsn', 'feers_wm_tsn'),\n",
    "                      feersum_nlu.LabeledWordManifold('ven', 'feers_wm_ven'),\n",
    "                      feersum_nlu.LabeledWordManifold('tso', 'feers_wm_tso')]\n",
    "\n",
    "train_details = feersum_nlu.TrainDetails(immediate_mode=True, word_manifold_list=word_manifold_list)\n",
    "# train_details = feersum_nlu.TrainDetails(immediate_mode=True, word_manifold_list=word_manifold_list)\n",
    "\n",
    "print()\n",
    "\n",
    "try:\n",
    "    print(\"Create the FAQ matcher:\")\n",
    "    api_response = api_instance.faq_matcher_create(create_details)\n",
    "    print(\" type(api_response)\", type(api_response))\n",
    "    print(\" api_response\", api_response)\n",
    "    print()\n",
    "\n",
    "    print(\"Add training samples to the FAQ matcher:\")\n",
    "    api_response = api_instance.faq_matcher_add_training_samples(instance_name, labelled_text_sample_list)\n",
    "    print(\" type(api_response)\", type(api_response))\n",
    "    print(\" api_response\", api_response)\n",
    "    print()\n",
    "\n",
    "    print(\"Get the training samples of the FAQ matcher:\")\n",
    "    api_response = api_instance.faq_matcher_get_training_samples(instance_name)\n",
    "    print(\" type(api_response)\", type(api_response))\n",
    "    print(\" api_response\", api_response)\n",
    "    print()\n",
    "\n",
    "    print(\"Del the training samples of the FAQ matcher:\")\n",
    "    api_response = api_instance.faq_matcher_del_training_samples(instance_name)\n",
    "    print(\" type(api_response)\", type(api_response))\n",
    "    print(\" api_response\", api_response)\n",
    "    print()\n",
    "\n",
    "    print(\"Add training samples to the FAQ matcher:\")\n",
    "    api_response = api_instance.faq_matcher_add_training_samples(instance_name, labelled_text_sample_list)\n",
    "    print(\" type(api_response)\", type(api_response))\n",
    "    print(\" api_response\", api_response)\n",
    "    print()\n",
    "\n",
    "    print(\"Train the FAQ matcher:\")\n",
    "    api_response = api_instance.faq_matcher_train(instance_name, train_details)\n",
    "    print(\" type(api_response)\", type(api_response))\n",
    "    print(\" api_response\", api_response)\n",
    "    print()\n",
    "\n",
    "    print(\"Get the details of all loaded FAQ matcher:\")\n",
    "    api_response = api_instance.faq_matcher_get_details_all()\n",
    "    print(\" type(api_response)\", type(api_response))\n",
    "    print(\" api_response\", api_response)\n",
    "    print()\n",
    "\n",
    "    print(\"Get the details of specific named loaded FAQ matcher:\")\n",
    "    api_response = api_instance.faq_matcher_get_details(instance_name)\n",
    "    print(\" type(api_response)\", type(api_response))\n",
    "    print(\" api_response\", api_response)\n",
    "    print()\n",
    "\n",
    "except ApiException as e:\n",
    "    print(\"Exception when calling an FAQ matcher operation: %s\\n\" % e)\n",
    "except urllib3.exceptions.MaxRetryError:\n",
    "    print(\"Connection MaxRetryError!\")"
   ]
  },
  {
   "cell_type": "code",
   "execution_count": null,
   "metadata": {},
   "outputs": [],
   "source": [
    ""
   ]
  },
  {
   "cell_type": "code",
   "execution_count": 4,
   "metadata": {},
   "outputs": [
    {
     "name": "stdout",
     "output_type": "stream",
     "text": [
      "Match a question:\n",
      " type(api_response) <class 'list'>\n",
      " api_response [{'label': 'quote', 'probability': 0.6234176495287785}]\n",
      "\n"
     ]
    }
   ],
   "source": [
    "text_input = feersum_nlu.TextInput(\"Waar kan ek 'n prys kry?\")\n",
    "\n",
    "try:\n",
    "    print(\"Match a question:\")\n",
    "    api_response = api_instance.faq_matcher_retrieve(instance_name, text_input)\n",
    "    print(\" type(api_response)\", type(api_response))\n",
    "    print(\" api_response\", api_response)\n",
    "    print()\n",
    "except ApiException as e:\n",
    "    print(\"Exception when calling an FAQ matcher operation: %s\\n\" % e)\n",
    "except urllib3.exceptions.MaxRetryError:\n",
    "    print(\"Connection MaxRetryError!\")"
   ]
  },
  {
   "cell_type": "code",
   "execution_count": null,
   "metadata": {},
   "outputs": [],
   "source": [
    ""
   ]
  }
 ],
 "metadata": {
  "kernelspec": {
   "display_name": "Python 3",
   "language": "python",
   "name": "python3"
  },
  "language_info": {
   "codemirror_mode": {
    "name": "ipython",
    "version": 3.0
   },
   "file_extension": ".py",
   "mimetype": "text/x-python",
   "name": "python",
   "nbconvert_exporter": "python",
   "pygments_lexer": "ipython3",
   "version": "3.6.3"
  }
 },
 "nbformat": 4,
 "nbformat_minor": 0
}