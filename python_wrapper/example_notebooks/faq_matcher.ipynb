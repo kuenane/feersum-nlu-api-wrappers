{
 "cells": [
  {
   "cell_type": "code",
   "execution_count": 1,
   "metadata": {},
   "outputs": [],
   "source": [
    "import os\n",
    "import sys\n",
    "module_path = os.path.abspath(os.path.join('..'))\n",
    "if module_path not in sys.path:\n",
    "    sys.path.append(module_path)\n",
    "\n",
    "import urllib3\n",
    "\n",
    "import feersum_nlu\n",
    "from feersum_nlu.rest import ApiException"
   ]
  },
  {
   "cell_type": "code",
   "execution_count": null,
   "metadata": {},
   "outputs": [],
   "source": []
  },
  {
   "cell_type": "markdown",
   "metadata": {},
   "source": [
    "## Setup the API key and service endpoint"
   ]
  },
  {
   "cell_type": "code",
   "execution_count": 2,
   "metadata": {},
   "outputs": [],
   "source": [
    "# Configure API key authorization: APIKeyHeader\n",
    "feersum_nlu.configuration.api_key['AUTH_TOKEN'] = 'YOUR_API_KEY'\n",
    "\n",
    "# feersum_nlu.configuration.host = \"http://127.0.0.1:8100/nlu/v2\"\n",
    "feersum_nlu.configuration.host = \"http://nlu.playground.feersum.io:8100/nlu/v2\""
   ]
  },
  {
   "cell_type": "code",
   "execution_count": null,
   "metadata": {},
   "outputs": [],
   "source": []
  },
  {
   "cell_type": "markdown",
   "metadata": {},
   "source": [
    "## Build a multi-language FAQ model \n",
    "Create an FAQ matcher, train it up and make a prediction."
   ]
  },
  {
   "cell_type": "code",
   "execution_count": 3,
   "metadata": {},
   "outputs": [
    {
     "name": "stdout",
     "output_type": "stream",
     "text": [
      "\n",
      "Create the FAQ matcher:\n",
      "Exception when calling an FAQ matcher operation: (400)\n",
      "Reason: BAD REQUEST\n",
      "HTTP response headers: HTTPHeaderDict({'Content-Type': 'application/json', 'Content-Length': '62', 'Server': 'Werkzeug/0.12.2 Python/3.5.2', 'Date': 'Fri, 13 Oct 2017 20:12:42 GMT'})\n",
      "HTTP response body: {\n",
      "  \"error_detail\": \"Invalid authorisation token provided!\"\n",
      "}\n",
      "\n",
      "\n",
      "\n"
     ]
    }
   ],
   "source": [
    "api_instance = feersum_nlu.FaqMatchersApi()\n",
    "\n",
    "instance_name = 'test_faq_mtchr'\n",
    "\n",
    "create_details = feersum_nlu.CreateDetails(name=instance_name, desc=\"Test FAQ matcher.\", load_from_store=False)\n",
    "\n",
    "# The training samples.\n",
    "labelled_text_sample_list = []\n",
    "labelled_text_sample_list.append(feersum_nlu.LabelledTextSample(text=\"How do I claim?\",\n",
    "                                                                label=\"claim\"))\n",
    "labelled_text_sample_list.append(feersum_nlu.LabelledTextSample(text=\"Hoe moet ek eis?\",\n",
    "                                                                label=\"claim\"))\n",
    "\n",
    "labelled_text_sample_list.append(feersum_nlu.LabelledTextSample(text=\"How do I get a quote?\",\n",
    "                                                                label=\"quote\"))\n",
    "labelled_text_sample_list.append(feersum_nlu.LabelledTextSample(text=\"Hoe kan ek 'n prys kry?\",\n",
    "                                                                label=\"quote\"))\n",
    "\n",
    "# Use default English manifold.\n",
    "# train_details = feersum_nlu.TrainDetails(immediate_mode=True)\n",
    "# OR\n",
    "# Use specified single manifold; the language defaults to English.\n",
    "# train_details = feersum_nlu.TrainDetails(immediate_mode=True, word_manifold=wm_instance_name)\n",
    "# OR\n",
    "# Use specified list of manifolds for multiple languaages.\n",
    "word_manifold_list = [feersum_nlu.LabeledWordManifold('eng', 'feers_wm_eng'),\n",
    "                      feersum_nlu.LabeledWordManifold('afr', 'feers_wm_afr'),\n",
    "                      feersum_nlu.LabeledWordManifold('nbl', 'feers_wm_nbl'),\n",
    "                      feersum_nlu.LabeledWordManifold('xho', 'feers_wm_xho'),\n",
    "                      feersum_nlu.LabeledWordManifold('zul', 'feers_wm_zul'),\n",
    "                      feersum_nlu.LabeledWordManifold('ssw', 'feers_wm_ssw'),\n",
    "                      feersum_nlu.LabeledWordManifold('nso', 'feers_wm_nso'),\n",
    "                      feersum_nlu.LabeledWordManifold('sot', 'feers_wm_sot'),\n",
    "                      feersum_nlu.LabeledWordManifold('tsn', 'feers_wm_tsn'),\n",
    "                      feersum_nlu.LabeledWordManifold('ven', 'feers_wm_ven'),\n",
    "                      feersum_nlu.LabeledWordManifold('tso', 'feers_wm_tso')]\n",
    "\n",
    "train_details = feersum_nlu.TrainDetails(immediate_mode=True, word_manifold_list=word_manifold_list)\n",
    "# train_details = feersum_nlu.TrainDetails(immediate_mode=True, word_manifold_list=word_manifold_list)\n",
    "\n",
    "print()\n",
    "\n",
    "try:\n",
    "    print(\"Create the FAQ matcher:\")\n",
    "    api_response = api_instance.faq_matcher_create(create_details)\n",
    "    print(\" type(api_response)\", type(api_response))\n",
    "    print(\" api_response\", api_response)\n",
    "    print()\n",
    "\n",
    "    print(\"Add training samples to the FAQ matcher:\")\n",
    "    api_response = api_instance.faq_matcher_add_training_samples(instance_name, labelled_text_sample_list)\n",
    "    print(\" type(api_response)\", type(api_response))\n",
    "    print(\" api_response\", api_response)\n",
    "    print()\n",
    "\n",
    "    print(\"Get the training samples of the FAQ matcher:\")\n",
    "    api_response = api_instance.faq_matcher_get_training_samples(instance_name)\n",
    "    print(\" type(api_response)\", type(api_response))\n",
    "    print(\" api_response\", api_response)\n",
    "    print()\n",
    "\n",
    "    print(\"Del the training samples of the FAQ matcher:\")\n",
    "    api_response = api_instance.faq_matcher_del_training_samples(instance_name)\n",
    "    print(\" type(api_response)\", type(api_response))\n",
    "    print(\" api_response\", api_response)\n",
    "    print()\n",
    "\n",
    "    print(\"Add training samples to the FAQ matcher:\")\n",
    "    api_response = api_instance.faq_matcher_add_training_samples(instance_name, labelled_text_sample_list)\n",
    "    print(\" type(api_response)\", type(api_response))\n",
    "    print(\" api_response\", api_response)\n",
    "    print()\n",
    "\n",
    "    print(\"Train the FAQ matcher:\")\n",
    "    api_response = api_instance.faq_matcher_train(instance_name, train_details)\n",
    "    print(\" type(api_response)\", type(api_response))\n",
    "    print(\" api_response\", api_response)\n",
    "    print()\n",
    "\n",
    "    print(\"Get the details of all loaded FAQ matcher:\")\n",
    "    api_response = api_instance.faq_matcher_get_details_all()\n",
    "    print(\" type(api_response)\", type(api_response))\n",
    "    print(\" api_response\", api_response)\n",
    "    print()\n",
    "\n",
    "    print(\"Get the details of specific named loaded FAQ matcher:\")\n",
    "    api_response = api_instance.faq_matcher_get_details(instance_name)\n",
    "    print(\" type(api_response)\", type(api_response))\n",
    "    print(\" api_response\", api_response)\n",
    "    print()\n",
    "\n",
    "except ApiException as e:\n",
    "    print(\"Exception when calling an FAQ matcher operation: %s\\n\" % e)\n",
    "except urllib3.exceptions.MaxRetryError:\n",
    "    print(\"Connection MaxRetryError!\")\n"
   ]
  },
  {
   "cell_type": "code",
   "execution_count": null,
   "metadata": {},
   "outputs": [],
   "source": []
  },
  {
   "cell_type": "code",
   "execution_count": 4,
   "metadata": {},
   "outputs": [
    {
     "name": "stdout",
     "output_type": "stream",
     "text": [
      "Match a question:\n",
      "Exception when calling an FAQ matcher operation: (400)\n",
      "Reason: BAD REQUEST\n",
      "HTTP response headers: HTTPHeaderDict({'Content-Type': 'application/json', 'Content-Length': '62', 'Server': 'Werkzeug/0.12.2 Python/3.5.2', 'Date': 'Fri, 13 Oct 2017 20:12:47 GMT'})\n",
      "HTTP response body: {\n",
      "  \"error_detail\": \"Invalid authorisation token provided!\"\n",
      "}\n",
      "\n",
      "\n",
      "\n"
     ]
    }
   ],
   "source": [
    "text_input = feersum_nlu.TextInput(\"Waar kan ek 'n prys kry?\")\n",
    "\n",
    "try:\n",
    "    print(\"Match a question:\")\n",
    "    api_response = api_instance.faq_matcher_retrieve(instance_name, text_input)\n",
    "    print(\" type(api_response)\", type(api_response))\n",
    "    print(\" api_response\", api_response)\n",
    "    print()\n",
    "except ApiException as e:\n",
    "    print(\"Exception when calling an FAQ matcher operation: %s\\n\" % e)\n",
    "except urllib3.exceptions.MaxRetryError:\n",
    "    print(\"Connection MaxRetryError!\")\n",
    "\n"
   ]
  },
  {
   "cell_type": "code",
   "execution_count": null,
   "metadata": {},
   "outputs": [],
   "source": []
  }
 ],
 "metadata": {
  "kernelspec": {
   "display_name": "Python 3",
   "language": "python",
   "name": "python3"
  },
  "language_info": {
   "codemirror_mode": {
    "name": "ipython",
    "version": 3
   },
   "file_extension": ".py",
   "mimetype": "text/x-python",
   "name": "python",
   "nbconvert_exporter": "python",
   "pygments_lexer": "ipython3",
   "version": "3.6.3"
  }
 },
 "nbformat": 4,
 "nbformat_minor": 2
}
